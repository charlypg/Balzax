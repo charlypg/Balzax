{
  "nbformat": 4,
  "nbformat_minor": 0,
  "metadata": {
    "colab": {
      "name": "balzax_environments_videos.ipynb",
      "provenance": [],
      "collapsed_sections": []
    },
    "kernelspec": {
      "name": "python3",
      "display_name": "Python 3"
    },
    "language_info": {
      "name": "python"
    },
    "accelerator": "GPU"
  },
  "cells": [
    {
      "cell_type": "markdown",
      "source": [
        "# Balzax environments\n",
        "\n",
        "***To be run on Collab***\n",
        "\n",
        "## Imports and modules"
      ],
      "metadata": {
        "id": "9tS7a7IPi-bx"
      }
    },
    {
      "cell_type": "markdown",
      "source": [
        "### Install Flax"
      ],
      "metadata": {
        "id": "uxXtKx1_AjRW"
      }
    },
    {
      "cell_type": "code",
      "execution_count": 1,
      "metadata": {
        "colab": {
          "base_uri": "https://localhost:8080/"
        },
        "id": "IAHsgrCSi1OD",
        "outputId": "76a8fe96-b64e-4aa1-d830-c85172711935"
      },
      "outputs": [
        {
          "output_type": "stream",
          "name": "stdout",
          "text": [
            "Collecting flax\n",
            "  Downloading flax-0.4.1-py3-none-any.whl (184 kB)\n",
            "\u001b[K     |████████████████████████████████| 184 kB 5.2 MB/s \n",
            "\u001b[?25hCollecting optax\n",
            "  Downloading optax-0.1.2-py3-none-any.whl (140 kB)\n",
            "\u001b[K     |████████████████████████████████| 140 kB 38.5 MB/s \n",
            "\u001b[?25hRequirement already satisfied: matplotlib in /usr/local/lib/python3.7/dist-packages (from flax) (3.2.2)\n",
            "Requirement already satisfied: msgpack in /usr/local/lib/python3.7/dist-packages (from flax) (1.0.3)\n",
            "Requirement already satisfied: jax>=0.3 in /usr/local/lib/python3.7/dist-packages (from flax) (0.3.4)\n",
            "Requirement already satisfied: numpy>=1.12 in /usr/local/lib/python3.7/dist-packages (from flax) (1.21.6)\n",
            "Requirement already satisfied: typing-extensions in /usr/local/lib/python3.7/dist-packages (from jax>=0.3->flax) (4.2.0)\n",
            "Requirement already satisfied: opt-einsum in /usr/local/lib/python3.7/dist-packages (from jax>=0.3->flax) (3.3.0)\n",
            "Requirement already satisfied: absl-py in /usr/local/lib/python3.7/dist-packages (from jax>=0.3->flax) (1.0.0)\n",
            "Requirement already satisfied: scipy>=1.2.1 in /usr/local/lib/python3.7/dist-packages (from jax>=0.3->flax) (1.4.1)\n",
            "Requirement already satisfied: six in /usr/local/lib/python3.7/dist-packages (from absl-py->jax>=0.3->flax) (1.15.0)\n",
            "Requirement already satisfied: cycler>=0.10 in /usr/local/lib/python3.7/dist-packages (from matplotlib->flax) (0.11.0)\n",
            "Requirement already satisfied: pyparsing!=2.0.4,!=2.1.2,!=2.1.6,>=2.0.1 in /usr/local/lib/python3.7/dist-packages (from matplotlib->flax) (3.0.8)\n",
            "Requirement already satisfied: python-dateutil>=2.1 in /usr/local/lib/python3.7/dist-packages (from matplotlib->flax) (2.8.2)\n",
            "Requirement already satisfied: kiwisolver>=1.0.1 in /usr/local/lib/python3.7/dist-packages (from matplotlib->flax) (1.4.2)\n",
            "Collecting chex>=0.0.4\n",
            "  Downloading chex-0.1.3-py3-none-any.whl (72 kB)\n",
            "\u001b[K     |████████████████████████████████| 72 kB 458 kB/s \n",
            "\u001b[?25hRequirement already satisfied: jaxlib>=0.1.37 in /usr/local/lib/python3.7/dist-packages (from optax->flax) (0.3.2+cuda11.cudnn805)\n",
            "Requirement already satisfied: dm-tree>=0.1.5 in /usr/local/lib/python3.7/dist-packages (from chex>=0.0.4->optax->flax) (0.1.7)\n",
            "Requirement already satisfied: toolz>=0.9.0 in /usr/local/lib/python3.7/dist-packages (from chex>=0.0.4->optax->flax) (0.11.2)\n",
            "Requirement already satisfied: flatbuffers<3.0,>=1.12 in /usr/local/lib/python3.7/dist-packages (from jaxlib>=0.1.37->optax->flax) (2.0)\n",
            "Installing collected packages: chex, optax, flax\n",
            "Successfully installed chex-0.1.3 flax-0.4.1 optax-0.1.2\n"
          ]
        }
      ],
      "source": [
        "!pip install flax"
      ]
    },
    {
      "cell_type": "markdown",
      "source": [
        "### Install Balzax"
      ],
      "metadata": {
        "id": "5Jbux3gDAlaB"
      }
    },
    {
      "cell_type": "code",
      "source": [
        "!pip install git+https://github.com/charlypg/Balzax"
      ],
      "metadata": {
        "colab": {
          "base_uri": "https://localhost:8080/"
        },
        "id": "zY1foB4GAids",
        "outputId": "ae344d77-52da-434c-edef-9ca57b5f5c38"
      },
      "execution_count": 2,
      "outputs": [
        {
          "output_type": "stream",
          "name": "stdout",
          "text": [
            "Collecting git+https://github.com/charlypg/Balzax\n",
            "  Cloning https://github.com/charlypg/Balzax to /tmp/pip-req-build-0u2c2ayq\n",
            "  Running command git clone -q https://github.com/charlypg/Balzax /tmp/pip-req-build-0u2c2ayq\n",
            "Building wheels for collected packages: balzax\n",
            "  Building wheel for balzax (setup.py) ... \u001b[?25l\u001b[?25hdone\n",
            "  Created wheel for balzax: filename=balzax-0.0.1-py3-none-any.whl size=7434 sha256=c1680d141e194f509d3067a19e2ec8fb5cbbc7412b833c2767881f05d8c1563a\n",
            "  Stored in directory: /tmp/pip-ephem-wheel-cache-_beyob_a/wheels/a3/2e/00/b25fcd14ca8aff910ad1c712f110f3b777be32dcfe232fa618\n",
            "Successfully built balzax\n",
            "Installing collected packages: balzax\n",
            "Successfully installed balzax-0.0.1\n"
          ]
        }
      ]
    },
    {
      "cell_type": "markdown",
      "source": [
        "### Imports"
      ],
      "metadata": {
        "id": "EciEB0hDAqZ4"
      }
    },
    {
      "cell_type": "code",
      "source": [
        "import jax\n",
        "import jax.numpy as jnp\n",
        "import flax\n",
        "from functools import partial\n",
        "import matplotlib.pyplot as plt\n",
        "from time import time \n",
        "\n",
        "from balzax import BallsEnv, BallsEnvGoal"
      ],
      "metadata": {
        "id": "ezpIbwE8lMdS"
      },
      "execution_count": 3,
      "outputs": []
    },
    {
      "cell_type": "markdown",
      "source": [
        "## Devices"
      ],
      "metadata": {
        "id": "fwLLHOQpXV2p"
      }
    },
    {
      "cell_type": "code",
      "source": [
        "print(jax.devices())"
      ],
      "metadata": {
        "colab": {
          "base_uri": "https://localhost:8080/"
        },
        "id": "REZXQuFgXYo9",
        "outputId": "5fc2f5c6-13d2-47ea-f210-250579b31521"
      },
      "execution_count": 4,
      "outputs": [
        {
          "output_type": "stream",
          "name": "stdout",
          "text": [
            "[GpuDevice(id=0, process_index=0)]\n"
          ]
        }
      ]
    },
    {
      "cell_type": "markdown",
      "source": [
        "## Testing vectorized BallEnv"
      ],
      "metadata": {
        "id": "lGqV42h2lTH4"
      }
    },
    {
      "cell_type": "code",
      "source": [
        "OBS_TYPE = 'image' # @param ['position', 'image']\n",
        "SEED = 0\n",
        "NUM_ENV = 3\n",
        "\n",
        "NB_ITER = 50\n",
        "\n",
        "ACTION_0 = jnp.zeros((NUM_ENV,))\n",
        "ACTION_1 = jnp.ones((NUM_ENV,))/2.\n",
        "\n",
        "key = jax.random.PRNGKey(SEED)\n",
        "keys = jax.random.split(key, num=NUM_ENV)\n",
        "\n",
        "#print(keys)\n",
        "\n",
        "env = BallsEnv(obs_type=OBS_TYPE)\n",
        "\n",
        "vmap_env_reset = jax.jit(jax.vmap(env.reset))  # jax.vmap(env.reset)\n",
        "vmap_env_step = jax.jit(jax.vmap(env.step))  # jax.vmap(env.step)\n",
        "\n",
        "obs_list = []\n",
        "\n",
        "print()\n",
        "print(\"Observation type : {}\".format(OBS_TYPE))\n",
        "print(\"Seed : {}\".format(SEED))\n",
        "print(\"Number of envs : {}\".format(NUM_ENV))\n",
        "print()\n",
        "\n",
        "t0 = time()\n",
        "env_states = vmap_env_reset(keys)\n",
        "print(\"Time du reset (jit+exec) : {}\".format(time()-t0))\n",
        "print()\n",
        "\n",
        "#print(env_states)\n",
        "\n",
        "observations = env_states.state.obs\n",
        "print(\"observations : {}\".format(observations.shape))\n",
        "print()\n",
        "\n",
        "t0 = time()\n",
        "env_states = vmap_env_reset(keys)\n",
        "print(\"Time du reset (second time exec) : {}\".format(time()-t0))\n",
        "print()\n",
        "\n",
        "obs_list.append(env_states.state.obs)\n",
        "\n",
        "t0 = time()\n",
        "env_states = vmap_env_step(env_states, ACTION_0)\n",
        "print(\"First step (jit+exec) : {}\".format(time()-t0))\n",
        "print()\n",
        "\n",
        "obs_list.append(env_states.state.obs)\n",
        "\n",
        "t0 = time()\n",
        "env_states = vmap_env_step(env_states, ACTION_1)\n",
        "print(\"Second step (exec) : {}\".format(time()-t0))\n",
        "print()\n",
        "\n",
        "obs_list.append(env_states.state.obs)\n",
        "\n",
        "t0 = time()\n",
        "for _ in range(NB_ITER):\n",
        "    env_states = vmap_env_step(env_states, ACTION_1)\n",
        "    obs_list.append(env_states.state.obs)\n",
        "print(\"{0} iterations in {1}s\".format(NB_ITER, time()-t0))\n",
        "print()\n",
        "\n",
        "pulse = 2*jnp.pi / NB_ITER * jnp.ones((NUM_ENV,))\n",
        "t0 = time()\n",
        "for i in range(NB_ITER):\n",
        "    env_states = vmap_env_step(env_states, jnp.sin(pulse*i))\n",
        "    obs_list.append(env_states.state.obs)\n",
        "print(\"{0} iterations in {1}s\".format(NB_ITER, time()-t0))\n",
        "print()"
      ],
      "metadata": {
        "colab": {
          "base_uri": "https://localhost:8080/"
        },
        "id": "gmjVGe2KlWss",
        "outputId": "f8c825b7-c152-4f70-f900-df252029f29d"
      },
      "execution_count": 5,
      "outputs": [
        {
          "output_type": "stream",
          "name": "stdout",
          "text": [
            "\n",
            "Observation type : image\n",
            "Seed : 0\n",
            "Number of envs : 3\n",
            "\n",
            "Time du reset (jit+exec) : 16.679338693618774\n",
            "\n",
            "observations : (3, 224, 224, 1)\n",
            "\n",
            "Time du reset (second time exec) : 0.003409862518310547\n",
            "\n",
            "First step (jit+exec) : 1.428309679031372\n",
            "\n",
            "Second step (exec) : 1.1957595348358154\n",
            "\n",
            "50 iterations in 0.017809152603149414s\n",
            "\n",
            "50 iterations in 0.2452249526977539s\n",
            "\n"
          ]
        }
      ]
    },
    {
      "cell_type": "markdown",
      "source": [
        "## Show first environment of first iteration"
      ],
      "metadata": {
        "id": "kLK9IjgaBZLQ"
      }
    },
    {
      "cell_type": "code",
      "source": [
        "print(obs_list[0][0].squeeze().shape)\n",
        "plt.imshow(obs_list[0][0].squeeze())"
      ],
      "metadata": {
        "colab": {
          "base_uri": "https://localhost:8080/",
          "height": 304
        },
        "id": "IqGxWlGyxW2e",
        "outputId": "c9bf67ca-791e-41f6-8739-fd59919c8d69"
      },
      "execution_count": 6,
      "outputs": [
        {
          "output_type": "stream",
          "name": "stdout",
          "text": [
            "(224, 224)\n"
          ]
        },
        {
          "output_type": "execute_result",
          "data": {
            "text/plain": [
              "<matplotlib.image.AxesImage at 0x7f3600efa410>"
            ]
          },
          "metadata": {},
          "execution_count": 6
        },
        {
          "output_type": "display_data",
          "data": {
            "text/plain": [
              "<Figure size 432x288 with 1 Axes>"
            ],
            "image/png": "[encoded data removed]"
          },
          "metadata": {
            "needs_background": "light"
          }
        }
      ]
    },
    {
      "cell_type": "markdown",
      "source": [
        "## Generate animation for the rollout"
      ],
      "metadata": {
        "id": "yMT-ghKABVU4"
      }
    },
    {
      "cell_type": "code",
      "source": [
        "import numpy as np\n",
        "import matplotlib.pyplot as plt\n",
        "import matplotlib.animation as animation\n",
        "from mpl_toolkits.axes_grid1 import make_axes_locatable\n",
        "\n",
        "fig, (ax1, ax2, ax3) = plt.subplots(1, 3)\n",
        "\n",
        "def animate(i):\n",
        "    fig.suptitle('Timestep {}'.format(i))\n",
        "    ax1.set_title('Env 0')\n",
        "    ax1.imshow(obs_list[i][0].squeeze(), origin='lower')\n",
        "    ax2.set_title('Env 1')\n",
        "    ax2.imshow(obs_list[i][1].squeeze(), origin='lower')\n",
        "    ax3.set_title('Env 2')\n",
        "    ax3.imshow(obs_list[i][2].squeeze(), origin='lower')\n",
        "\n",
        "ani = animation.FuncAnimation(fig, animate, frames=2*NB_ITER)\n",
        "FFwriter = animation.FFMpegWriter()\n",
        "ani.save('animation_rollout.mp4', writer=FFwriter)"
      ],
      "metadata": {
        "colab": {
          "base_uri": "https://localhost:8080/",
          "height": 235
        },
        "id": "O_qCCL2YwsCh",
        "outputId": "4e372762-eefe-486e-fd48-13a3fbf4d7e8"
      },
      "execution_count": 7,
      "outputs": [
        {
          "output_type": "display_data",
          "data": {
            "text/plain": [
              "<Figure size 432x288 with 3 Axes>"
            ],
            "image/png": "[encoded data removed]"
          },
          "metadata": {
            "needs_background": "light"
          }
        }
      ]
    }
  ]
}