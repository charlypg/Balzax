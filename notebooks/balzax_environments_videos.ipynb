{
  "nbformat": 4,
  "nbformat_minor": 0,
  "metadata": {
    "colab": {
      "name": "balzax_environments_videos.ipynb",
      "provenance": [],
      "collapsed_sections": []
    },
    "kernelspec": {
      "name": "python3",
      "display_name": "Python 3"
    },
    "language_info": {
      "name": "python"
    },
    "accelerator": "GPU"
  },
  "cells": [
    {
      "cell_type": "markdown",
      "source": [
        "# Balzax environments\n",
        "\n",
        "***To be run on Collab***\n",
        "\n",
        "## Imports and modules"
      ],
      "metadata": {
        "id": "9tS7a7IPi-bx"
      }
    },
    {
      "cell_type": "markdown",
      "source": [
        "### Install Flax"
      ],
      "metadata": {
        "id": "uxXtKx1_AjRW"
      }
    },
    {
      "cell_type": "code",
      "execution_count": 3,
      "metadata": {
        "colab": {
          "base_uri": "https://localhost:8080/"
        },
        "id": "IAHsgrCSi1OD",
        "outputId": "d0d84a53-b077-45c1-945c-4659543121bd"
      },
      "outputs": [
        {
          "output_type": "stream",
          "name": "stdout",
          "text": [
            "Requirement already satisfied: flax in /usr/local/lib/python3.7/dist-packages (0.4.2)\n",
            "Requirement already satisfied: typing-extensions>=4.1.1 in /usr/local/lib/python3.7/dist-packages (from flax) (4.2.0)\n",
            "Requirement already satisfied: msgpack in /usr/local/lib/python3.7/dist-packages (from flax) (1.0.3)\n",
            "Requirement already satisfied: matplotlib in /usr/local/lib/python3.7/dist-packages (from flax) (3.2.2)\n",
            "Requirement already satisfied: jax>=0.3 in /usr/local/lib/python3.7/dist-packages (from flax) (0.3.8)\n",
            "Requirement already satisfied: optax in /usr/local/lib/python3.7/dist-packages (from flax) (0.1.2)\n",
            "Requirement already satisfied: numpy>=1.12 in /usr/local/lib/python3.7/dist-packages (from flax) (1.21.6)\n",
            "Requirement already satisfied: scipy>=1.2.1 in /usr/local/lib/python3.7/dist-packages (from jax>=0.3->flax) (1.4.1)\n",
            "Requirement already satisfied: opt-einsum in /usr/local/lib/python3.7/dist-packages (from jax>=0.3->flax) (3.3.0)\n",
            "Requirement already satisfied: absl-py in /usr/local/lib/python3.7/dist-packages (from jax>=0.3->flax) (1.0.0)\n",
            "Requirement already satisfied: six in /usr/local/lib/python3.7/dist-packages (from absl-py->jax>=0.3->flax) (1.15.0)\n",
            "Requirement already satisfied: cycler>=0.10 in /usr/local/lib/python3.7/dist-packages (from matplotlib->flax) (0.11.0)\n",
            "Requirement already satisfied: kiwisolver>=1.0.1 in /usr/local/lib/python3.7/dist-packages (from matplotlib->flax) (1.4.2)\n",
            "Requirement already satisfied: python-dateutil>=2.1 in /usr/local/lib/python3.7/dist-packages (from matplotlib->flax) (2.8.2)\n",
            "Requirement already satisfied: pyparsing!=2.0.4,!=2.1.2,!=2.1.6,>=2.0.1 in /usr/local/lib/python3.7/dist-packages (from matplotlib->flax) (3.0.8)\n",
            "Requirement already satisfied: jaxlib>=0.1.37 in /usr/local/lib/python3.7/dist-packages (from optax->flax) (0.3.7+cuda11.cudnn805)\n",
            "Requirement already satisfied: chex>=0.0.4 in /usr/local/lib/python3.7/dist-packages (from optax->flax) (0.1.3)\n",
            "Requirement already satisfied: dm-tree>=0.1.5 in /usr/local/lib/python3.7/dist-packages (from chex>=0.0.4->optax->flax) (0.1.7)\n",
            "Requirement already satisfied: toolz>=0.9.0 in /usr/local/lib/python3.7/dist-packages (from chex>=0.0.4->optax->flax) (0.11.2)\n",
            "Requirement already satisfied: flatbuffers<3.0,>=1.12 in /usr/local/lib/python3.7/dist-packages (from jaxlib>=0.1.37->optax->flax) (2.0)\n"
          ]
        }
      ],
      "source": [
        "!pip install flax"
      ]
    },
    {
      "cell_type": "markdown",
      "source": [
        "### Install Balzax"
      ],
      "metadata": {
        "id": "5Jbux3gDAlaB"
      }
    },
    {
      "cell_type": "code",
      "source": [
        "!pip install git+https://github.com/charlypg/Balzax@v_0.0.2"
      ],
      "metadata": {
        "colab": {
          "base_uri": "https://localhost:8080/"
        },
        "id": "zY1foB4GAids",
        "outputId": "01731114-491f-4e95-ac9a-e6bac1f1ecb6"
      },
      "execution_count": 4,
      "outputs": [
        {
          "output_type": "stream",
          "name": "stdout",
          "text": [
            "Collecting git+https://github.com/charlypg/Balzax@v_0.0.2\n",
            "  Cloning https://github.com/charlypg/Balzax (to revision v_0.0.2) to /tmp/pip-req-build-650vrwsj\n",
            "  Running command git clone -q https://github.com/charlypg/Balzax /tmp/pip-req-build-650vrwsj\n",
            "  Running command git checkout -b v_0.0.2 --track origin/v_0.0.2\n",
            "  Switched to a new branch 'v_0.0.2'\n",
            "  Branch 'v_0.0.2' set up to track remote branch 'v_0.0.2' from 'origin'.\n"
          ]
        }
      ]
    },
    {
      "cell_type": "markdown",
      "source": [
        "### Imports"
      ],
      "metadata": {
        "id": "EciEB0hDAqZ4"
      }
    },
    {
      "cell_type": "code",
      "source": [
        "import jax\n",
        "import jax.numpy as jnp\n",
        "import flax\n",
        "from functools import partial\n",
        "import matplotlib.pyplot as plt\n",
        "from time import time \n",
        "\n",
        "from balzax import BallsEnv, BallsEnvGoal"
      ],
      "metadata": {
        "id": "ezpIbwE8lMdS"
      },
      "execution_count": 5,
      "outputs": []
    },
    {
      "cell_type": "markdown",
      "source": [
        "## Devices"
      ],
      "metadata": {
        "id": "fwLLHOQpXV2p"
      }
    },
    {
      "cell_type": "code",
      "source": [
        "print(jax.devices())"
      ],
      "metadata": {
        "colab": {
          "base_uri": "https://localhost:8080/"
        },
        "id": "REZXQuFgXYo9",
        "outputId": "b1823ca1-b835-4aed-f7b2-df9e8ec15d50"
      },
      "execution_count": 6,
      "outputs": [
        {
          "output_type": "stream",
          "name": "stdout",
          "text": [
            "[GpuDevice(id=0, process_index=0)]\n"
          ]
        }
      ]
    },
    {
      "cell_type": "markdown",
      "source": [
        "## Testing vectorized BallEnv"
      ],
      "metadata": {
        "id": "lGqV42h2lTH4"
      }
    },
    {
      "cell_type": "code",
      "source": [
        "OBS_TYPE = 'image' # @param ['position', 'image']\n",
        "SEED = 0\n",
        "NUM_ENV = 3\n",
        "\n",
        "NB_ITER = 50\n",
        "\n",
        "ACTION_0 = jnp.zeros((NUM_ENV, 1))\n",
        "ACTION_1 = jnp.ones((NUM_ENV, 1))/2.\n",
        "\n",
        "key = jax.random.PRNGKey(SEED)\n",
        "keys = jax.random.split(key, num=NUM_ENV)\n",
        "\n",
        "#print(keys)\n",
        "\n",
        "env = BallsEnv(obs_type=OBS_TYPE)\n",
        "\n",
        "vmap_env_reset = jax.jit(jax.vmap(env.reset))  # jax.vmap(env.reset)\n",
        "vmap_env_step = jax.jit(jax.vmap(env.step))  # jax.vmap(env.step)\n",
        "\n",
        "obs_list = []\n",
        "\n",
        "print()\n",
        "print(\"Observation type : {}\".format(OBS_TYPE))\n",
        "print(\"Seed : {}\".format(SEED))\n",
        "print(\"Number of envs : {}\".format(NUM_ENV))\n",
        "print()\n",
        "\n",
        "t0 = time()\n",
        "env_states = vmap_env_reset(keys)\n",
        "print(\"Time du reset (jit+exec) : {}\".format(time()-t0))\n",
        "print()\n",
        "\n",
        "#print(env_states)\n",
        "\n",
        "observations = env_states.obs\n",
        "print(\"observations : {}\".format(observations.shape))\n",
        "print()\n",
        "\n",
        "t0 = time()\n",
        "env_states = vmap_env_reset(keys)\n",
        "print(\"Time du reset (second time exec) : {}\".format(time()-t0))\n",
        "print()\n",
        "\n",
        "obs_list.append(env_states.obs)\n",
        "\n",
        "t0 = time()\n",
        "env_states = vmap_env_step(env_states, ACTION_0)\n",
        "print(\"First step (jit+exec) : {}\".format(time()-t0))\n",
        "print()\n",
        "\n",
        "obs_list.append(env_states.obs)\n",
        "\n",
        "t0 = time()\n",
        "env_states = vmap_env_step(env_states, ACTION_1)\n",
        "print(\"Second step (exec) : {}\".format(time()-t0))\n",
        "print()\n",
        "\n",
        "obs_list.append(env_states.obs)\n",
        "\n",
        "t0 = time()\n",
        "for _ in range(NB_ITER):\n",
        "    env_states = vmap_env_step(env_states, ACTION_1)\n",
        "    obs_list.append(env_states.obs)\n",
        "print(\"{0} iterations in {1}s\".format(NB_ITER, time()-t0))\n",
        "print()\n",
        "\n",
        "pulse = 2*jnp.pi / NB_ITER * jnp.ones((NUM_ENV, 1))\n",
        "t0 = time()\n",
        "for i in range(NB_ITER):\n",
        "    env_states = vmap_env_step(env_states, jnp.sin(pulse*i))\n",
        "    obs_list.append(env_states.obs)\n",
        "print(\"{0} iterations in {1}s\".format(NB_ITER, time()-t0))\n",
        "print()"
      ],
      "metadata": {
        "colab": {
          "base_uri": "https://localhost:8080/"
        },
        "id": "gmjVGe2KlWss",
        "outputId": "23f8a76e-67c9-4817-f81a-0e597084a87f"
      },
      "execution_count": 7,
      "outputs": [
        {
          "output_type": "stream",
          "name": "stdout",
          "text": [
            "\n",
            "Observation type : image\n",
            "Seed : 0\n",
            "Number of envs : 3\n",
            "\n",
            "Time du reset (jit+exec) : 17.809800624847412\n",
            "\n",
            "observations : (3, 224, 224, 1)\n",
            "\n",
            "Time du reset (second time exec) : 0.0039441585540771484\n",
            "\n",
            "First step (jit+exec) : 1.3470749855041504\n",
            "\n",
            "Second step (exec) : 0.001010894775390625\n",
            "\n",
            "50 iterations in 0.02153491973876953s\n",
            "\n",
            "50 iterations in 0.2633960247039795s\n",
            "\n"
          ]
        }
      ]
    },
    {
      "cell_type": "markdown",
      "source": [
        "## Show first environment of first iteration"
      ],
      "metadata": {
        "id": "kLK9IjgaBZLQ"
      }
    },
    {
      "cell_type": "code",
      "source": [
        "print(obs_list[0][0].squeeze().shape)\n",
        "plt.imshow(obs_list[0][0].squeeze())"
      ],
      "metadata": {
        "colab": {
          "base_uri": "https://localhost:8080/",
          "height": 304
        },
        "id": "IqGxWlGyxW2e",
        "outputId": "59ba3eda-b74d-42eb-f774-5feec92a8444"
      },
      "execution_count": 8,
      "outputs": [
        {
          "output_type": "stream",
          "name": "stdout",
          "text": [
            "(224, 224)\n"
          ]
        },
        {
          "output_type": "execute_result",
          "data": {
            "text/plain": [
              "<matplotlib.image.AxesImage at 0x7faad8104310>"
            ]
          },
          "metadata": {},
          "execution_count": 8
        },
        {
          "output_type": "display_data",
          "data": {
            "text/plain": [
              "<Figure size 432x288 with 1 Axes>"
            ],
            "image/png": "[encoded data removed]"
          },
          "metadata": {
            "needs_background": "light"
          }
        }
      ]
    },
    {
      "cell_type": "markdown",
      "source": [
        "## Generate animation for the rollout"
      ],
      "metadata": {
        "id": "yMT-ghKABVU4"
      }
    },
    {
      "cell_type": "code",
      "source": [
        "import numpy as np\n",
        "import matplotlib.pyplot as plt\n",
        "import matplotlib.animation as animation\n",
        "from mpl_toolkits.axes_grid1 import make_axes_locatable\n",
        "\n",
        "fig, (ax1, ax2, ax3) = plt.subplots(1, 3)\n",
        "\n",
        "def animate(i):\n",
        "    fig.suptitle('Timestep {}'.format(i))\n",
        "    ax1.set_title('Env 0')\n",
        "    ax1.imshow(obs_list[i][0].squeeze(), origin='lower')\n",
        "    ax2.set_title('Env 1')\n",
        "    ax2.imshow(obs_list[i][1].squeeze(), origin='lower')\n",
        "    ax3.set_title('Env 2')\n",
        "    ax3.imshow(obs_list[i][2].squeeze(), origin='lower')\n",
        "\n",
        "ani = animation.FuncAnimation(fig, animate, frames=2*NB_ITER)\n",
        "FFwriter = animation.FFMpegWriter()\n",
        "ani.save('animation_rollout.mp4', writer=FFwriter)"
      ],
      "metadata": {
        "colab": {
          "base_uri": "https://localhost:8080/",
          "height": 235
        },
        "id": "O_qCCL2YwsCh",
        "outputId": "78a71acf-d426-4038-87db-7ac1b44b0d84"
      },
      "execution_count": 9,
      "outputs": [
        {
          "output_type": "display_data",
          "data": {
            "text/plain": [
              "<Figure size 432x288 with 3 Axes>"
            ],
            "image/png": "[encoded data removed]"
          },
          "metadata": {
            "needs_background": "light"
          }
        }
      ]
    },
    {
      "cell_type": "markdown",
      "source": [
        "## Idem in the goal-oriented case"
      ],
      "metadata": {
        "id": "JBWFi2kCpNI1"
      }
    },
    {
      "cell_type": "code",
      "source": [
        "OBS_TYPE = 'image'\n",
        "SEED = 0\n",
        "NUM_ENV = 2\n",
        "MAX_TIMESTEP = 100\n",
        "\n",
        "NB_ITER_1 = 1\n",
        "NB_ITER_2 = 200\n",
        "assert NB_ITER_1 < NB_ITER_2\n",
        "\n",
        "ACTION_0 = jnp.zeros((NUM_ENV, 1))\n",
        "ACTION_1 = jnp.ones((NUM_ENV, 1))/2.\n",
        "\n",
        "key = jax.random.PRNGKey(SEED)\n",
        "keys = jax.random.split(key, num=NUM_ENV)\n",
        "\n",
        "env = BallsEnvGoal(obs_type=OBS_TYPE, max_timestep=MAX_TIMESTEP)\n",
        "\n",
        "vmap_env_reset = jax.jit(jax.vmap(env.reset))\n",
        "vmap_env_reset_done = jax.jit(jax.vmap(env.reset_done))\n",
        "vmap_env_step = jax.jit(jax.vmap(env.step))  \n",
        "\n",
        "goalobs_list = []\n",
        "\n",
        "print()\n",
        "print(\"Observation type : {}\".format(OBS_TYPE))\n",
        "print(\"Seed : {}\".format(SEED))\n",
        "print(\"Number of envs : {}\".format(NUM_ENV))\n",
        "print()\n",
        "\n",
        "t0 = time()\n",
        "env_states = vmap_env_reset(keys)\n",
        "print(\"Time of reset (jit+exec) : {}\".format(time()-t0))\n",
        "print()\n",
        "\n",
        "for key_goal, value_goal in zip(env_states.goalobs.keys(), \n",
        "                                env_states.goalobs.values()):\n",
        "    print(\"{0} shape : {1}\".format(key_goal, value_goal.shape))\n",
        "print()\n",
        "\n",
        "goalobs_list.append(env_states.goalobs)\n",
        "\n",
        "t0 = time()\n",
        "env_states = vmap_env_step(env_states, ACTION_0)\n",
        "print(\"First step (jit+exec) : {}\".format(time()-t0))\n",
        "print()\n",
        "\n",
        "goalobs_list.append(env_states.goalobs)\n",
        "\n",
        "t0 = time()\n",
        "env_states = vmap_env_step(env_states, ACTION_1)\n",
        "print(\"Second step (exec) : {}\".format(time()-t0))\n",
        "print()\n",
        "\n",
        "goalobs_list.append(env_states.goalobs)\n",
        "\n",
        "t0 = time()\n",
        "for _ in range(NB_ITER_1):\n",
        "    env_states = vmap_env_step(env_states, ACTION_1)\n",
        "    env_states = vmap_env_reset_done(env_states)\n",
        "    goalobs_list.append(env_states.goalobs)\n",
        "print(\"{0} iterations in {1}s\".format(NB_ITER_1, time()-t0))\n",
        "print()\n",
        "\n",
        "pulse = 2*jnp.pi / NB_ITER_2 * jnp.ones((NUM_ENV, 1))\n",
        "t0 = time()\n",
        "for i in range(NB_ITER_1, NB_ITER_1+NB_ITER_2):\n",
        "    env_states = vmap_env_step(env_states, jnp.sin(pulse*i))\n",
        "    env_states = vmap_env_reset_done(env_states)\n",
        "    goalobs_list.append(env_states.goalobs)\n",
        "print(\"{0} iterations in {1}s\".format(NB_ITER_2-NB_ITER_1, time()-t0))\n",
        "print()"
      ],
      "metadata": {
        "colab": {
          "base_uri": "https://localhost:8080/"
        },
        "id": "2wSr7NVfpT4G",
        "outputId": "07f2a0d6-198e-4428-c1cb-859113f9974f"
      },
      "execution_count": 10,
      "outputs": [
        {
          "output_type": "stream",
          "name": "stdout",
          "text": [
            "\n",
            "Observation type : image\n",
            "Seed : 0\n",
            "Number of envs : 2\n",
            "\n",
            "Time of reset (jit+exec) : 22.743492603302002\n",
            "\n",
            "achieved_goal shape : (2, 224, 224, 1)\n",
            "desired_goal shape : (2, 224, 224, 1)\n",
            "observation shape : (2, 224, 224, 1)\n",
            "\n",
            "First step (jit+exec) : 1.449892520904541\n",
            "\n",
            "Second step (exec) : 0.001222848892211914\n",
            "\n",
            "1 iterations in 25.093971252441406s\n",
            "\n",
            "199 iterations in 1.2469487190246582s\n",
            "\n"
          ]
        }
      ]
    },
    {
      "cell_type": "code",
      "source": [
        "num_goalobs = min(2, NB_ITER_2)\n",
        "fig, axs = plt.subplots(num_goalobs, 3)\n",
        "def animate_vect_goalobs(i):\n",
        "    fig.suptitle('Timestep {}'.format(i))\n",
        "    for j in range(num_goalobs):\n",
        "        for k, (field, value) in enumerate(zip(goalobs_list[i].keys(),\n",
        "                                               goalobs_list[i].values())):\n",
        "            axs[j,k].imshow(value[j].squeeze())\n",
        "            axs[j,k].set_title(field)\n",
        "\n",
        "ani_goal = animation.FuncAnimation(fig, animate_vect_goalobs, frames=NB_ITER_1+NB_ITER_2)\n",
        "FFwriter = animation.FFMpegWriter()\n",
        "ani_goal.save('animation_rollout_goal_oriented.mp4', writer=FFwriter)"
      ],
      "metadata": {
        "colab": {
          "base_uri": "https://localhost:8080/",
          "height": 294
        },
        "id": "OYO2ln0_pWIe",
        "outputId": "7af7fa99-d2e1-4b96-9032-2f0014c9b60e"
      },
      "execution_count": 11,
      "outputs": [
        {
          "output_type": "display_data",
          "data": {
            "text/plain": [
              "<Figure size 432x288 with 6 Axes>"
            ],
            "image/png": "[encoded data removed]"
          },
          "metadata": {
            "needs_background": "light"
          }
        }
      ]
    }
  ]
}