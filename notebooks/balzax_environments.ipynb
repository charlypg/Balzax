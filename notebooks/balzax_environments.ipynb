{
  "nbformat": 4,
  "nbformat_minor": 0,
  "metadata": {
    "colab": {
      "name": "balzax_environments.ipynb",
      "provenance": [],
      "collapsed_sections": []
    },
    "kernelspec": {
      "name": "python3",
      "display_name": "Python 3"
    },
    "language_info": {
      "name": "python"
    },
    "accelerator": "GPU"
  },
  "cells": [
    {
      "cell_type": "markdown",
      "source": [
        "# Balzax environments\n",
        "\n",
        "***To be run on Collab***\n",
        "\n",
        "## Imports and modules"
      ],
      "metadata": {
        "id": "9tS7a7IPi-bx"
      }
    },
    {
      "cell_type": "markdown",
      "source": [
        "### Install Flax"
      ],
      "metadata": {
        "id": "dc_dePmAxXQY"
      }
    },
    {
      "cell_type": "code",
      "execution_count": 7,
      "metadata": {
        "colab": {
          "base_uri": "https://localhost:8080/"
        },
        "id": "IAHsgrCSi1OD",
        "outputId": "f323c3b5-40b6-4b19-8550-5018780bb1db"
      },
      "outputs": [
        {
          "output_type": "stream",
          "name": "stdout",
          "text": [
            "Requirement already satisfied: flax in /usr/local/lib/python3.7/dist-packages (0.4.2)\n",
            "Requirement already satisfied: matplotlib in /usr/local/lib/python3.7/dist-packages (from flax) (3.2.2)\n",
            "Requirement already satisfied: msgpack in /usr/local/lib/python3.7/dist-packages (from flax) (1.0.3)\n",
            "Requirement already satisfied: numpy>=1.12 in /usr/local/lib/python3.7/dist-packages (from flax) (1.21.6)\n",
            "Requirement already satisfied: typing-extensions>=4.1.1 in /usr/local/lib/python3.7/dist-packages (from flax) (4.2.0)\n",
            "Requirement already satisfied: jax>=0.3 in /usr/local/lib/python3.7/dist-packages (from flax) (0.3.8)\n",
            "Requirement already satisfied: optax in /usr/local/lib/python3.7/dist-packages (from flax) (0.1.2)\n",
            "Requirement already satisfied: opt-einsum in /usr/local/lib/python3.7/dist-packages (from jax>=0.3->flax) (3.3.0)\n",
            "Requirement already satisfied: absl-py in /usr/local/lib/python3.7/dist-packages (from jax>=0.3->flax) (1.0.0)\n",
            "Requirement already satisfied: scipy>=1.2.1 in /usr/local/lib/python3.7/dist-packages (from jax>=0.3->flax) (1.4.1)\n",
            "Requirement already satisfied: six in /usr/local/lib/python3.7/dist-packages (from absl-py->jax>=0.3->flax) (1.15.0)\n",
            "Requirement already satisfied: pyparsing!=2.0.4,!=2.1.2,!=2.1.6,>=2.0.1 in /usr/local/lib/python3.7/dist-packages (from matplotlib->flax) (3.0.8)\n",
            "Requirement already satisfied: cycler>=0.10 in /usr/local/lib/python3.7/dist-packages (from matplotlib->flax) (0.11.0)\n",
            "Requirement already satisfied: kiwisolver>=1.0.1 in /usr/local/lib/python3.7/dist-packages (from matplotlib->flax) (1.4.2)\n",
            "Requirement already satisfied: python-dateutil>=2.1 in /usr/local/lib/python3.7/dist-packages (from matplotlib->flax) (2.8.2)\n",
            "Requirement already satisfied: jaxlib>=0.1.37 in /usr/local/lib/python3.7/dist-packages (from optax->flax) (0.3.7+cuda11.cudnn805)\n",
            "Requirement already satisfied: chex>=0.0.4 in /usr/local/lib/python3.7/dist-packages (from optax->flax) (0.1.3)\n",
            "Requirement already satisfied: dm-tree>=0.1.5 in /usr/local/lib/python3.7/dist-packages (from chex>=0.0.4->optax->flax) (0.1.7)\n",
            "Requirement already satisfied: toolz>=0.9.0 in /usr/local/lib/python3.7/dist-packages (from chex>=0.0.4->optax->flax) (0.11.2)\n",
            "Requirement already satisfied: flatbuffers<3.0,>=1.12 in /usr/local/lib/python3.7/dist-packages (from jaxlib>=0.1.37->optax->flax) (2.0)\n"
          ]
        }
      ],
      "source": [
        "!pip install flax"
      ]
    },
    {
      "cell_type": "markdown",
      "source": [
        "### Install Balzax"
      ],
      "metadata": {
        "id": "UAz7eQdlxZpq"
      }
    },
    {
      "cell_type": "code",
      "source": [
        "!pip install git+https://github.com/charlypg/Balzax@v_0.0.2"
      ],
      "metadata": {
        "colab": {
          "base_uri": "https://localhost:8080/"
        },
        "id": "nBH_bc_9-Z6k",
        "outputId": "364c6fdd-b05e-48b4-c0d9-9115d64da6de"
      },
      "execution_count": 8,
      "outputs": [
        {
          "output_type": "stream",
          "name": "stdout",
          "text": [
            "Collecting git+https://github.com/charlypg/Balzax@v_0.0.2\n",
            "  Cloning https://github.com/charlypg/Balzax (to revision v_0.0.2) to /tmp/pip-req-build-ff7m_rtm\n",
            "  Running command git clone -q https://github.com/charlypg/Balzax /tmp/pip-req-build-ff7m_rtm\n",
            "  Running command git checkout -b v_0.0.2 --track origin/v_0.0.2\n",
            "  Switched to a new branch 'v_0.0.2'\n",
            "  Branch 'v_0.0.2' set up to track remote branch 'v_0.0.2' from 'origin'.\n"
          ]
        }
      ]
    },
    {
      "cell_type": "markdown",
      "source": [
        "### Imports"
      ],
      "metadata": {
        "id": "RyzK7_wexdLp"
      }
    },
    {
      "cell_type": "code",
      "source": [
        "import jax\n",
        "import jax.numpy as jnp\n",
        "import flax\n",
        "from functools import partial\n",
        "from time import time \n",
        "\n",
        "from balzax import BallsEnv, BallsEnvGoal"
      ],
      "metadata": {
        "id": "ezpIbwE8lMdS"
      },
      "execution_count": 9,
      "outputs": []
    },
    {
      "cell_type": "markdown",
      "source": [
        "### Devices"
      ],
      "metadata": {
        "id": "fwLLHOQpXV2p"
      }
    },
    {
      "cell_type": "code",
      "source": [
        "print(jax.devices())"
      ],
      "metadata": {
        "colab": {
          "base_uri": "https://localhost:8080/"
        },
        "id": "REZXQuFgXYo9",
        "outputId": "184dd03c-0219-40b1-cb8e-f049297e33a0"
      },
      "execution_count": 10,
      "outputs": [
        {
          "output_type": "stream",
          "name": "stdout",
          "text": [
            "[GpuDevice(id=0, process_index=0)]\n"
          ]
        }
      ]
    },
    {
      "cell_type": "markdown",
      "source": [
        "## Testing vectorized BallsEnv"
      ],
      "metadata": {
        "id": "lGqV42h2lTH4"
      }
    },
    {
      "cell_type": "code",
      "source": [
        "OBS_TYPE = 'image' # @param ['position', 'image']\n",
        "MAX_TIMESTEPS = 3\n",
        "SEED = 0\n",
        "NUM_ENV = 500\n",
        "\n",
        "NB_ITER_1 = 1\n",
        "NB_ITER_2 = 500\n",
        "\n",
        "ACTION_0 = jnp.zeros((NUM_ENV, 1))\n",
        "ACTION_1 = jnp.ones((NUM_ENV, 1))/2.\n",
        "\n",
        "key = jax.random.PRNGKey(SEED)\n",
        "keys = jax.random.split(key, num=NUM_ENV)\n",
        "\n",
        "env = BallsEnv(obs_type=OBS_TYPE, max_timestep=MAX_TIMESTEPS)\n",
        "\n",
        "vmap_env_reset_done = jax.jit(jax.vmap(env.reset_done)) \n",
        "vmap_env_reset = jax.jit(jax.vmap(env.reset))  \n",
        "vmap_env_step = jax.jit(jax.vmap(env.step))  \n",
        "\n",
        "print()\n",
        "print(\"Observation type : {}\".format(OBS_TYPE))\n",
        "print(\"Seed : {}\".format(SEED))\n",
        "print(\"Number of envs : {}\".format(NUM_ENV))\n",
        "print()\n",
        "\n",
        "t0 = time()\n",
        "env_states = vmap_env_reset(keys)\n",
        "print(\"Time of reset (jit+exec) : {}\".format(time()-t0))\n",
        "print()\n",
        "\n",
        "print(\"observations : {}\".format(env_states.obs.shape))\n",
        "print()\n",
        "\n",
        "t0 = time()\n",
        "for _ in range(NB_ITER_1):\n",
        "    env_states = vmap_env_step(env_states, ACTION_1)\n",
        "    env_states = vmap_env_reset_done(env_states)\n",
        "print(\"{0} iterations in {1}s\".format(NB_ITER_1, time()-t0))\n",
        "print(\"step and reset_done : first call reflecting compilation time\")\n",
        "print()\n",
        "\n",
        "pulse = 2*jnp.pi / NB_ITER_2 * jnp.ones((NUM_ENV, 1))\n",
        "t0 = time()\n",
        "for i in range(NB_ITER_2):\n",
        "    env_states = vmap_env_step(env_states, jnp.sin(pulse*i))\n",
        "    env_states = vmap_env_reset_done(env_states)\n",
        "print(\"{0} iterations in {1}s\".format(NB_ITER_2, time()-t0))\n",
        "print(\"step and reset_done\")\n",
        "print()"
      ],
      "metadata": {
        "colab": {
          "base_uri": "https://localhost:8080/"
        },
        "id": "Jroe3Z1-Y_fQ",
        "outputId": "d06bb7b0-b1c7-4c3e-82d4-f9b64d792bd0"
      },
      "execution_count": 11,
      "outputs": [
        {
          "output_type": "stream",
          "name": "stdout",
          "text": [
            "\n",
            "Observation type : image\n",
            "Seed : 0\n",
            "Number of envs : 500\n",
            "\n",
            "Time of reset (jit+exec) : 15.821111917495728\n",
            "\n",
            "observations : (500, 224, 224, 1)\n",
            "\n",
            "1 iterations in 15.96161150932312s\n",
            "step and reset_done : first call reflecting compilation time\n",
            "\n",
            "500 iterations in 9.461880207061768s\n",
            "step and reset_done\n",
            "\n"
          ]
        }
      ]
    },
    {
      "cell_type": "markdown",
      "source": [
        "### Testing vectorized BallsEnvGoal"
      ],
      "metadata": {
        "id": "UtT5ekPzqdDl"
      }
    },
    {
      "cell_type": "code",
      "source": [
        "OBS_TYPE = 'position' # @param ['position', 'image']\n",
        "MAX_TIMESTEPS = 50\n",
        "SEED = 0\n",
        "NUM_ENV = 10_000\n",
        "\n",
        "NB_ITER_1 = 1\n",
        "NB_ITER_2 = 10_000\n",
        "\n",
        "ACTION_0 = jnp.zeros((NUM_ENV, 1))\n",
        "ACTION_1 = jnp.ones((NUM_ENV, 1))/2.\n",
        "\n",
        "key = jax.random.PRNGKey(SEED)\n",
        "keys = jax.random.split(key, num=NUM_ENV)\n",
        "\n",
        "env = BallsEnvGoal(obs_type=OBS_TYPE, max_timestep=MAX_TIMESTEPS)\n",
        "\n",
        "vmap_env_reset_done = jax.jit(jax.vmap(env.reset_done)) \n",
        "vmap_env_reset = jax.jit(jax.vmap(env.reset))  \n",
        "vmap_env_step = jax.jit(jax.vmap(env.step))  \n",
        "\n",
        "print()\n",
        "print(\"Observation type : {}\".format(OBS_TYPE))\n",
        "print(\"Seed : {}\".format(SEED))\n",
        "print(\"Number of envs : {}\".format(NUM_ENV))\n",
        "print()\n",
        "\n",
        "t0 = time()\n",
        "env_states = vmap_env_reset(keys)\n",
        "print(\"Time of reset (jit+exec) : {}\".format(time()-t0))\n",
        "print()\n",
        "\n",
        "for field, value in zip(env_states.goalobs.keys(), env_states.goalobs.values()):\n",
        "  print(\"{0} : {1}\".format(field, value.shape))\n",
        "print()\n",
        "\n",
        "t0 = time()\n",
        "for _ in range(NB_ITER_1):\n",
        "    env_states = vmap_env_step(env_states, ACTION_1)\n",
        "    env_states = vmap_env_reset_done(env_states)\n",
        "print(\"{0} iterations in {1}s\".format(NB_ITER_1, time()-t0))\n",
        "print(\"step and reset_done : first call reflecting compilation time\")\n",
        "print()\n",
        "\n",
        "pulse = 2*jnp.pi / NB_ITER_2 * jnp.ones((NUM_ENV, 1))\n",
        "t0 = time()\n",
        "for i in range(NB_ITER_2):\n",
        "    env_states = vmap_env_step(env_states, jnp.sin(pulse*i))\n",
        "    env_states = vmap_env_reset_done(env_states)\n",
        "print(\"{0} iterations in {1}s\".format(NB_ITER_2, time()-t0))\n",
        "print(\"step and reset_done\")\n",
        "print()"
      ],
      "metadata": {
        "colab": {
          "base_uri": "https://localhost:8080/"
        },
        "id": "7WCB56hxqiMk",
        "outputId": "8063b500-5797-431d-fe95-e62cf715a07b"
      },
      "execution_count": 12,
      "outputs": [
        {
          "output_type": "stream",
          "name": "stdout",
          "text": [
            "\n",
            "Observation type : position\n",
            "Seed : 0\n",
            "Number of envs : 10000\n",
            "\n",
            "Time of reset (jit+exec) : 28.31153130531311\n",
            "\n",
            "achieved_goal : (10000, 8)\n",
            "desired_goal : (10000, 8)\n",
            "observation : (10000, 8)\n",
            "\n",
            "1 iterations in 31.146015882492065s\n",
            "step and reset_done : first call reflecting compilation time\n",
            "\n",
            "10000 iterations in 58.50022482872009s\n",
            "step and reset_done\n",
            "\n"
          ]
        }
      ]
    }
  ]
}