{
  "nbformat": 4,
  "nbformat_minor": 0,
  "metadata": {
    "colab": {
      "name": "balzax_environments.ipynb",
      "provenance": [],
      "collapsed_sections": []
    },
    "kernelspec": {
      "name": "python3",
      "display_name": "Python 3"
    },
    "language_info": {
      "name": "python"
    },
    "accelerator": "GPU"
  },
  "cells": [
    {
      "cell_type": "markdown",
      "source": [
        "# Balzax environments\n",
        "\n",
        "***To be run on Collab***\n",
        "\n",
        "## Imports and modules"
      ],
      "metadata": {
        "id": "9tS7a7IPi-bx"
      }
    },
    {
      "cell_type": "markdown",
      "source": [
        "### Install Flax"
      ],
      "metadata": {
        "id": "dc_dePmAxXQY"
      }
    },
    {
      "cell_type": "code",
      "execution_count": 9,
      "metadata": {
        "colab": {
          "base_uri": "https://localhost:8080/"
        },
        "id": "IAHsgrCSi1OD",
        "outputId": "839f6217-2021-4abe-ccf3-5cd8bd5832f2"
      },
      "outputs": [
        {
          "output_type": "stream",
          "name": "stdout",
          "text": [
            "Requirement already satisfied: flax in /usr/local/lib/python3.7/dist-packages (0.4.1)\n",
            "Requirement already satisfied: numpy>=1.12 in /usr/local/lib/python3.7/dist-packages (from flax) (1.21.6)\n",
            "Requirement already satisfied: jax>=0.3 in /usr/local/lib/python3.7/dist-packages (from flax) (0.3.4)\n",
            "Requirement already satisfied: matplotlib in /usr/local/lib/python3.7/dist-packages (from flax) (3.2.2)\n",
            "Requirement already satisfied: optax in /usr/local/lib/python3.7/dist-packages (from flax) (0.1.2)\n",
            "Requirement already satisfied: msgpack in /usr/local/lib/python3.7/dist-packages (from flax) (1.0.3)\n",
            "Requirement already satisfied: typing-extensions in /usr/local/lib/python3.7/dist-packages (from jax>=0.3->flax) (4.2.0)\n",
            "Requirement already satisfied: absl-py in /usr/local/lib/python3.7/dist-packages (from jax>=0.3->flax) (1.0.0)\n",
            "Requirement already satisfied: scipy>=1.2.1 in /usr/local/lib/python3.7/dist-packages (from jax>=0.3->flax) (1.4.1)\n",
            "Requirement already satisfied: opt-einsum in /usr/local/lib/python3.7/dist-packages (from jax>=0.3->flax) (3.3.0)\n",
            "Requirement already satisfied: six in /usr/local/lib/python3.7/dist-packages (from absl-py->jax>=0.3->flax) (1.15.0)\n",
            "Requirement already satisfied: kiwisolver>=1.0.1 in /usr/local/lib/python3.7/dist-packages (from matplotlib->flax) (1.4.2)\n",
            "Requirement already satisfied: python-dateutil>=2.1 in /usr/local/lib/python3.7/dist-packages (from matplotlib->flax) (2.8.2)\n",
            "Requirement already satisfied: cycler>=0.10 in /usr/local/lib/python3.7/dist-packages (from matplotlib->flax) (0.11.0)\n",
            "Requirement already satisfied: pyparsing!=2.0.4,!=2.1.2,!=2.1.6,>=2.0.1 in /usr/local/lib/python3.7/dist-packages (from matplotlib->flax) (3.0.8)\n",
            "Requirement already satisfied: jaxlib>=0.1.37 in /usr/local/lib/python3.7/dist-packages (from optax->flax) (0.3.2+cuda11.cudnn805)\n",
            "Requirement already satisfied: chex>=0.0.4 in /usr/local/lib/python3.7/dist-packages (from optax->flax) (0.1.3)\n",
            "Requirement already satisfied: dm-tree>=0.1.5 in /usr/local/lib/python3.7/dist-packages (from chex>=0.0.4->optax->flax) (0.1.7)\n",
            "Requirement already satisfied: toolz>=0.9.0 in /usr/local/lib/python3.7/dist-packages (from chex>=0.0.4->optax->flax) (0.11.2)\n",
            "Requirement already satisfied: flatbuffers<3.0,>=1.12 in /usr/local/lib/python3.7/dist-packages (from jaxlib>=0.1.37->optax->flax) (2.0)\n"
          ]
        }
      ],
      "source": [
        "!pip install flax"
      ]
    },
    {
      "cell_type": "markdown",
      "source": [
        "### Install Balzax"
      ],
      "metadata": {
        "id": "UAz7eQdlxZpq"
      }
    },
    {
      "cell_type": "code",
      "source": [
        "!pip install git+https://github.com/charlypg/Balzax"
      ],
      "metadata": {
        "colab": {
          "base_uri": "https://localhost:8080/"
        },
        "id": "nBH_bc_9-Z6k",
        "outputId": "20081b09-de87-41b2-de82-cee52b520be6"
      },
      "execution_count": 10,
      "outputs": [
        {
          "output_type": "stream",
          "name": "stdout",
          "text": [
            "Collecting git+https://github.com/charlypg/Balzax\n",
            "  Cloning https://github.com/charlypg/Balzax to /tmp/pip-req-build-oyzev2ol\n",
            "  Running command git clone -q https://github.com/charlypg/Balzax /tmp/pip-req-build-oyzev2ol\n"
          ]
        }
      ]
    },
    {
      "cell_type": "markdown",
      "source": [
        "### Imports"
      ],
      "metadata": {
        "id": "RyzK7_wexdLp"
      }
    },
    {
      "cell_type": "code",
      "source": [
        "import jax\n",
        "import jax.numpy as jnp\n",
        "import flax\n",
        "from functools import partial\n",
        "import matplotlib.pyplot as plt\n",
        "from time import time \n",
        "\n",
        "from balzax import BallsEnv, BallsEnvGoal"
      ],
      "metadata": {
        "id": "ezpIbwE8lMdS"
      },
      "execution_count": 11,
      "outputs": []
    },
    {
      "cell_type": "markdown",
      "source": [
        "### Devices"
      ],
      "metadata": {
        "id": "fwLLHOQpXV2p"
      }
    },
    {
      "cell_type": "code",
      "source": [
        "print(jax.devices())"
      ],
      "metadata": {
        "colab": {
          "base_uri": "https://localhost:8080/"
        },
        "id": "REZXQuFgXYo9",
        "outputId": "6c94f3ae-213c-489a-a98b-03e1c42892f0"
      },
      "execution_count": 12,
      "outputs": [
        {
          "output_type": "stream",
          "name": "stdout",
          "text": [
            "[GpuDevice(id=0, process_index=0)]\n"
          ]
        }
      ]
    },
    {
      "cell_type": "markdown",
      "source": [
        "## Testing vectorized BallEnv"
      ],
      "metadata": {
        "id": "lGqV42h2lTH4"
      }
    },
    {
      "cell_type": "code",
      "source": [
        "OBS_TYPE = 'position' # @param ['position', 'image']\n",
        "SEED = 0\n",
        "NUM_ENV = 10000\n",
        "\n",
        "NB_ITER = 10000\n",
        "\n",
        "ACTION_0 = jnp.zeros((NUM_ENV,))\n",
        "ACTION_1 = jnp.ones((NUM_ENV,))/2.\n",
        "\n",
        "key = jax.random.PRNGKey(SEED)\n",
        "keys = jax.random.split(key, num=NUM_ENV)\n",
        "\n",
        "#print(keys)\n",
        "\n",
        "env = BallsEnv(obs_type=OBS_TYPE)\n",
        "\n",
        "vmap_env_reset = jax.jit(jax.vmap(env.reset))  # jax.vmap(env.reset)\n",
        "vmap_env_step = jax.jit(jax.vmap(env.step))  # jax.vmap(env.step)\n",
        "\n",
        "obs_list = []\n",
        "\n",
        "print()\n",
        "print(\"Observation type : {}\".format(OBS_TYPE))\n",
        "print(\"Seed : {}\".format(SEED))\n",
        "print(\"Number of envs : {}\".format(NUM_ENV))\n",
        "print()\n",
        "\n",
        "print(\"Number of iterations : {}\".format(NB_ITER))\n",
        "print()\n",
        "\n",
        "t0 = time()\n",
        "env_states = vmap_env_reset(keys)\n",
        "print(\"Time du reset (jit+exec) : {}\".format(time()-t0))\n",
        "print()\n",
        "\n",
        "#print(env_states)\n",
        "\n",
        "observations = env_states.state.obs\n",
        "print(\"observations : {}\".format(observations.shape))\n",
        "print()\n",
        "\n",
        "t0 = time()\n",
        "env_states = vmap_env_reset(keys)\n",
        "print(\"Time du reset (second time exec) : {}\".format(time()-t0))\n",
        "print()\n",
        "\n",
        "obs_list.append(env_states.state.obs)\n",
        "\n",
        "t0 = time()\n",
        "env_states = vmap_env_step(env_states, ACTION_0)\n",
        "print(\"First step (jit+exec) : {}\".format(time()-t0))\n",
        "print()\n",
        "\n",
        "obs_list.append(env_states.state.obs)\n",
        "\n",
        "t0 = time()\n",
        "env_states = vmap_env_step(env_states, ACTION_1)\n",
        "print(\"Second step (exec) : {}\".format(time()-t0))\n",
        "print()\n",
        "\n",
        "obs_list.append(env_states.state.obs)\n",
        "\n",
        "t0 = time()\n",
        "for _ in range(NB_ITER):\n",
        "    env_states = vmap_env_step(env_states, ACTION_1)\n",
        "    obs_list.append(env_states.state.obs)\n",
        "print(\"{0} iterations in {1}s\".format(NB_ITER, time()-t0))\n",
        "print()\n",
        "\n",
        "pulse = 2*jnp.pi / NB_ITER * jnp.ones((NUM_ENV,))\n",
        "t0 = time()\n",
        "for i in range(NB_ITER):\n",
        "    env_states = vmap_env_step(env_states, jnp.sin(pulse*i))\n",
        "    obs_list.append(env_states.state.obs)\n",
        "print(\"{0} iterations in {1}s\".format(NB_ITER, time()-t0))\n",
        "print()"
      ],
      "metadata": {
        "colab": {
          "base_uri": "https://localhost:8080/"
        },
        "id": "gmjVGe2KlWss",
        "outputId": "e27aa884-70ec-486c-e142-a068cf04293d"
      },
      "execution_count": 13,
      "outputs": [
        {
          "output_type": "stream",
          "name": "stdout",
          "text": [
            "\n",
            "Observation type : position\n",
            "Seed : 0\n",
            "Number of envs : 10000\n",
            "\n",
            "Number of iterations : 10000\n",
            "\n",
            "Time du reset (jit+exec) : 16.14885687828064\n",
            "\n",
            "observations : (10000, 8)\n",
            "\n",
            "Time du reset (second time exec) : 0.0036156177520751953\n",
            "\n",
            "First step (jit+exec) : 1.298271894454956\n",
            "\n",
            "Second step (exec) : 1.4462976455688477\n",
            "\n",
            "10000 iterations in 4.561103105545044s\n",
            "\n",
            "10000 iterations in 7.61394476890564s\n",
            "\n"
          ]
        }
      ]
    },
    {
      "cell_type": "markdown",
      "source": [
        "### Testing vectorized GoalEnv"
      ],
      "metadata": {
        "id": "UtT5ekPzqdDl"
      }
    },
    {
      "cell_type": "code",
      "source": [
        "OBS_TYPE = 'image'  # @param ['position', 'image']\n",
        "SEED = 0\n",
        "NUM_ENV = 500\n",
        "\n",
        "NB_ITER = 500\n",
        "\n",
        "ACTION_0 = jnp.zeros((NUM_ENV,))\n",
        "ACTION_1 = jnp.ones((NUM_ENV,))/2.\n",
        "\n",
        "key = jax.random.PRNGKey(SEED)\n",
        "keys = jax.random.split(key, num=NUM_ENV)\n",
        "\n",
        "#print(keys)\n",
        "\n",
        "env = BallsEnvGoal(obs_type=OBS_TYPE)\n",
        "\n",
        "vmap_env_reset = jax.jit(jax.vmap(env.reset))  # jax.vmap(env.reset)\n",
        "vmap_env_step = jax.jit(jax.vmap(env.step))  # jax.vmap(env.step)\n",
        "\n",
        "obs_list = []\n",
        "\n",
        "print()\n",
        "print(\"Observation type : {}\".format(OBS_TYPE))\n",
        "print(\"Seed : {}\".format(SEED))\n",
        "print(\"Number of envs : {}\".format(NUM_ENV))\n",
        "print()\n",
        "\n",
        "print(\"Number of iterations : {}\".format(NB_ITER))\n",
        "print()\n",
        "\n",
        "t0 = time()\n",
        "env_states = vmap_env_reset(keys)\n",
        "print(\"Time du reset (jit+exec) : {}\".format(time()-t0))\n",
        "print()\n",
        "\n",
        "#print(env_states)\n",
        "\n",
        "observations = env_states.state.obs\n",
        "print(\"observations : {}\".format(observations.shape))\n",
        "print()\n",
        "\n",
        "t0 = time()\n",
        "env_states = vmap_env_reset(keys)\n",
        "print(\"Time du reset (second time exec) : {}\".format(time()-t0))\n",
        "print()\n",
        "\n",
        "obs_list.append(env_states.state.obs)\n",
        "\n",
        "t0 = time()\n",
        "env_states = vmap_env_step(env_states, ACTION_0)\n",
        "print(\"First step (jit+exec) : {}\".format(time()-t0))\n",
        "print()\n",
        "\n",
        "obs_list.append(env_states.state.obs)\n",
        "\n",
        "t0 = time()\n",
        "env_states = vmap_env_step(env_states, ACTION_1)\n",
        "print(\"Second step (exec) : {}\".format(time()-t0))\n",
        "print()\n",
        "\n",
        "obs_list.append(env_states.state.obs)\n",
        "\n",
        "t0 = time()\n",
        "for _ in range(NB_ITER):\n",
        "    env_states = vmap_env_step(env_states, ACTION_1)\n",
        "    #obs_list.append(env_states.state.obs)\n",
        "print(\"{0} iterations in {1}s\".format(NB_ITER, time()-t0))\n",
        "print()\n",
        "\n",
        "pulse = 2*jnp.pi / NB_ITER * jnp.ones((NUM_ENV,))\n",
        "t0 = time()\n",
        "for i in range(NB_ITER):\n",
        "    env_states = vmap_env_step(env_states, jnp.sin(pulse*i))\n",
        "    #obs_list.append(env_states.state.obs)\n",
        "print(\"{0} iterations in {1}s\".format(NB_ITER, time()-t0))\n",
        "print()"
      ],
      "metadata": {
        "colab": {
          "base_uri": "https://localhost:8080/"
        },
        "id": "7WCB56hxqiMk",
        "outputId": "8b2486bd-55e0-4de0-9626-328a4477f14a"
      },
      "execution_count": 14,
      "outputs": [
        {
          "output_type": "stream",
          "name": "stdout",
          "text": [
            "\n",
            "Observation type : image\n",
            "Seed : 0\n",
            "Number of envs : 500\n",
            "\n",
            "Number of iterations : 500\n",
            "\n",
            "Time du reset (jit+exec) : 27.19322109222412\n",
            "\n",
            "observations : (500, 224, 224, 1)\n",
            "\n",
            "Time du reset (second time exec) : 0.007956266403198242\n",
            "\n",
            "First step (jit+exec) : 1.3358988761901855\n",
            "\n",
            "Second step (exec) : 1.4006242752075195\n",
            "\n",
            "500 iterations in 4.382855176925659s\n",
            "\n",
            "500 iterations in 4.593937158584595s\n",
            "\n"
          ]
        }
      ]
    }
  ]
}