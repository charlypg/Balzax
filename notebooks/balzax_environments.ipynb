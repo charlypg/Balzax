{
  "nbformat": 4,
  "nbformat_minor": 0,
  "metadata": {
    "colab": {
      "name": "balzax_environments.ipynb",
      "provenance": [],
      "collapsed_sections": []
    },
    "kernelspec": {
      "name": "python3",
      "display_name": "Python 3"
    },
    "language_info": {
      "name": "python"
    },
    "accelerator": "GPU"
  },
  "cells": [
    {
      "cell_type": "markdown",
      "source": [
        "# Balzax environments\n",
        "\n",
        "***To be run on Collab***\n",
        "\n",
        "## Imports and modules"
      ],
      "metadata": {
        "id": "9tS7a7IPi-bx"
      }
    },
    {
      "cell_type": "markdown",
      "source": [
        "### Install Flax"
      ],
      "metadata": {
        "id": "dc_dePmAxXQY"
      }
    },
    {
      "cell_type": "code",
      "execution_count": 1,
      "metadata": {
        "colab": {
          "base_uri": "https://localhost:8080/"
        },
        "id": "IAHsgrCSi1OD",
        "outputId": "f915af6b-cbfa-4e47-9a55-9574713b27ee"
      },
      "outputs": [
        {
          "output_type": "stream",
          "name": "stdout",
          "text": [
            "Requirement already satisfied: flax in /usr/local/lib/python3.7/dist-packages (0.4.1)\n",
            "Requirement already satisfied: msgpack in /usr/local/lib/python3.7/dist-packages (from flax) (1.0.3)\n",
            "Requirement already satisfied: matplotlib in /usr/local/lib/python3.7/dist-packages (from flax) (3.2.2)\n",
            "Requirement already satisfied: optax in /usr/local/lib/python3.7/dist-packages (from flax) (0.1.2)\n",
            "Requirement already satisfied: numpy>=1.12 in /usr/local/lib/python3.7/dist-packages (from flax) (1.21.6)\n",
            "Requirement already satisfied: jax>=0.3 in /usr/local/lib/python3.7/dist-packages (from flax) (0.3.4)\n",
            "Requirement already satisfied: absl-py in /usr/local/lib/python3.7/dist-packages (from jax>=0.3->flax) (1.0.0)\n",
            "Requirement already satisfied: typing-extensions in /usr/local/lib/python3.7/dist-packages (from jax>=0.3->flax) (4.2.0)\n",
            "Requirement already satisfied: opt-einsum in /usr/local/lib/python3.7/dist-packages (from jax>=0.3->flax) (3.3.0)\n",
            "Requirement already satisfied: scipy>=1.2.1 in /usr/local/lib/python3.7/dist-packages (from jax>=0.3->flax) (1.4.1)\n",
            "Requirement already satisfied: six in /usr/local/lib/python3.7/dist-packages (from absl-py->jax>=0.3->flax) (1.15.0)\n",
            "Requirement already satisfied: kiwisolver>=1.0.1 in /usr/local/lib/python3.7/dist-packages (from matplotlib->flax) (1.4.2)\n",
            "Requirement already satisfied: cycler>=0.10 in /usr/local/lib/python3.7/dist-packages (from matplotlib->flax) (0.11.0)\n",
            "Requirement already satisfied: python-dateutil>=2.1 in /usr/local/lib/python3.7/dist-packages (from matplotlib->flax) (2.8.2)\n",
            "Requirement already satisfied: pyparsing!=2.0.4,!=2.1.2,!=2.1.6,>=2.0.1 in /usr/local/lib/python3.7/dist-packages (from matplotlib->flax) (3.0.8)\n",
            "Requirement already satisfied: jaxlib>=0.1.37 in /usr/local/lib/python3.7/dist-packages (from optax->flax) (0.3.2+cuda11.cudnn805)\n",
            "Requirement already satisfied: chex>=0.0.4 in /usr/local/lib/python3.7/dist-packages (from optax->flax) (0.1.3)\n",
            "Requirement already satisfied: dm-tree>=0.1.5 in /usr/local/lib/python3.7/dist-packages (from chex>=0.0.4->optax->flax) (0.1.7)\n",
            "Requirement already satisfied: toolz>=0.9.0 in /usr/local/lib/python3.7/dist-packages (from chex>=0.0.4->optax->flax) (0.11.2)\n",
            "Requirement already satisfied: flatbuffers<3.0,>=1.12 in /usr/local/lib/python3.7/dist-packages (from jaxlib>=0.1.37->optax->flax) (2.0)\n"
          ]
        }
      ],
      "source": [
        "!pip install flax"
      ]
    },
    {
      "cell_type": "markdown",
      "source": [
        "### Install Balzax"
      ],
      "metadata": {
        "id": "UAz7eQdlxZpq"
      }
    },
    {
      "cell_type": "code",
      "source": [
        "!pip install git+https://github.com/charlypg/Balzax"
      ],
      "metadata": {
        "colab": {
          "base_uri": "https://localhost:8080/"
        },
        "id": "nBH_bc_9-Z6k",
        "outputId": "f43e773d-7360-4a8d-97b9-3db872d953ea"
      },
      "execution_count": 2,
      "outputs": [
        {
          "output_type": "stream",
          "name": "stdout",
          "text": [
            "Collecting git+https://github.com/charlypg/Balzax\n",
            "  Cloning https://github.com/charlypg/Balzax to /tmp/pip-req-build-0_q81v_l\n",
            "  Running command git clone -q https://github.com/charlypg/Balzax /tmp/pip-req-build-0_q81v_l\n"
          ]
        }
      ]
    },
    {
      "cell_type": "markdown",
      "source": [
        "### Imports"
      ],
      "metadata": {
        "id": "RyzK7_wexdLp"
      }
    },
    {
      "cell_type": "code",
      "source": [
        "import jax\n",
        "import jax.numpy as jnp\n",
        "import flax\n",
        "from functools import partial\n",
        "from time import time \n",
        "\n",
        "from balzax import BallsEnv, BallsEnvGoal"
      ],
      "metadata": {
        "id": "ezpIbwE8lMdS"
      },
      "execution_count": 3,
      "outputs": []
    },
    {
      "cell_type": "markdown",
      "source": [
        "### Devices"
      ],
      "metadata": {
        "id": "fwLLHOQpXV2p"
      }
    },
    {
      "cell_type": "code",
      "source": [
        "print(jax.devices())"
      ],
      "metadata": {
        "colab": {
          "base_uri": "https://localhost:8080/"
        },
        "id": "REZXQuFgXYo9",
        "outputId": "60d9cca2-9cf3-4c98-b399-df236044d6d1"
      },
      "execution_count": 4,
      "outputs": [
        {
          "output_type": "stream",
          "name": "stdout",
          "text": [
            "[GpuDevice(id=0, process_index=0)]\n"
          ]
        }
      ]
    },
    {
      "cell_type": "markdown",
      "source": [
        "## Testing vectorized BallsEnv"
      ],
      "metadata": {
        "id": "lGqV42h2lTH4"
      }
    },
    {
      "cell_type": "code",
      "source": [
        "OBS_TYPE = 'image' # @param ['position', 'image']\n",
        "MAX_TIMESTEPS = 3\n",
        "SEED = 0\n",
        "NUM_ENV = 500\n",
        "\n",
        "NB_ITER_1 = 1\n",
        "NB_ITER_2 = 500\n",
        "\n",
        "ACTION_0 = jnp.zeros((NUM_ENV,))\n",
        "ACTION_1 = jnp.ones((NUM_ENV,))/2.\n",
        "\n",
        "key = jax.random.PRNGKey(SEED)\n",
        "keys = jax.random.split(key, num=NUM_ENV)\n",
        "\n",
        "env = BallsEnv(obs_type=OBS_TYPE, max_timestep=MAX_TIMESTEPS)\n",
        "\n",
        "vmap_env_reset_done = jax.jit(jax.vmap(env.reset_done)) \n",
        "vmap_env_reset = jax.jit(jax.vmap(env.reset))  \n",
        "vmap_env_step = jax.jit(jax.vmap(env.step))  \n",
        "\n",
        "print()\n",
        "print(\"Observation type : {}\".format(OBS_TYPE))\n",
        "print(\"Seed : {}\".format(SEED))\n",
        "print(\"Number of envs : {}\".format(NUM_ENV))\n",
        "print()\n",
        "\n",
        "t0 = time()\n",
        "env_states = vmap_env_reset(keys)\n",
        "print(\"Time of reset (jit+exec) : {}\".format(time()-t0))\n",
        "print()\n",
        "\n",
        "print(\"observations : {}\".format(env_states.obs.shape))\n",
        "print()\n",
        "\n",
        "t0 = time()\n",
        "for _ in range(NB_ITER_1):\n",
        "    env_states = vmap_env_step(env_states, ACTION_1)\n",
        "    env_states = vmap_env_reset_done(env_states)\n",
        "print(\"{0} iterations in {1}s\".format(NB_ITER_1, time()-t0))\n",
        "print(\"step and reset_done : first call reflecting compilation time\")\n",
        "print()\n",
        "\n",
        "pulse = 2*jnp.pi / NB_ITER_2 * jnp.ones((NUM_ENV,))\n",
        "t0 = time()\n",
        "for i in range(NB_ITER_2):\n",
        "    env_states = vmap_env_step(env_states, jnp.sin(pulse*i))\n",
        "    env_states = vmap_env_reset_done(env_states)\n",
        "print(\"{0} iterations in {1}s\".format(NB_ITER_2, time()-t0))\n",
        "print(\"step and reset_done\")\n",
        "print()"
      ],
      "metadata": {
        "colab": {
          "base_uri": "https://localhost:8080/"
        },
        "id": "Jroe3Z1-Y_fQ",
        "outputId": "db8ef87a-bf20-48cd-8ec0-e17ea5505f93"
      },
      "execution_count": 5,
      "outputs": [
        {
          "output_type": "stream",
          "name": "stdout",
          "text": [
            "\n",
            "Observation type : image\n",
            "Seed : 0\n",
            "Number of envs : 500\n",
            "\n",
            "Time of reset (jit+exec) : 11.572967767715454\n",
            "\n",
            "observations : (500, 224, 224, 1)\n",
            "\n",
            "1 iterations in 10.62477731704712s\n",
            "step and reset_done : first call reflecting compilation time\n",
            "\n",
            "500 iterations in 6.302776575088501s\n",
            "step and reset_done\n",
            "\n"
          ]
        }
      ]
    },
    {
      "cell_type": "markdown",
      "source": [
        "### Testing vectorized BallsEnvGoal"
      ],
      "metadata": {
        "id": "UtT5ekPzqdDl"
      }
    },
    {
      "cell_type": "code",
      "source": [
        "OBS_TYPE = 'position' # @param ['position', 'image']\n",
        "MAX_TIMESTEPS = 50\n",
        "SEED = 0\n",
        "NUM_ENV = 10_000\n",
        "\n",
        "NB_ITER_1 = 1\n",
        "NB_ITER_2 = 10_000\n",
        "\n",
        "ACTION_0 = jnp.zeros((NUM_ENV,))\n",
        "ACTION_1 = jnp.ones((NUM_ENV,))/2.\n",
        "\n",
        "key = jax.random.PRNGKey(SEED)\n",
        "keys = jax.random.split(key, num=NUM_ENV)\n",
        "\n",
        "env = BallsEnvGoal(obs_type=OBS_TYPE, max_timestep=MAX_TIMESTEPS)\n",
        "\n",
        "vmap_env_reset_done = jax.jit(jax.vmap(env.reset_done)) \n",
        "vmap_env_reset = jax.jit(jax.vmap(env.reset))  \n",
        "vmap_env_step = jax.jit(jax.vmap(env.step))  \n",
        "\n",
        "print()\n",
        "print(\"Observation type : {}\".format(OBS_TYPE))\n",
        "print(\"Seed : {}\".format(SEED))\n",
        "print(\"Number of envs : {}\".format(NUM_ENV))\n",
        "print()\n",
        "\n",
        "t0 = time()\n",
        "env_states = vmap_env_reset(keys)\n",
        "print(\"Time of reset (jit+exec) : {}\".format(time()-t0))\n",
        "print()\n",
        "\n",
        "for field, value in zip(env_states.goalobs.keys(), env_states.goalobs.values()):\n",
        "  print(\"{0} : {1}\".format(field, value.shape))\n",
        "print()\n",
        "\n",
        "t0 = time()\n",
        "for _ in range(NB_ITER_1):\n",
        "    env_states = vmap_env_step(env_states, ACTION_1)\n",
        "    env_states = vmap_env_reset_done(env_states)\n",
        "print(\"{0} iterations in {1}s\".format(NB_ITER_1, time()-t0))\n",
        "print(\"step and reset_done : first call reflecting compilation time\")\n",
        "print()\n",
        "\n",
        "pulse = 2*jnp.pi / NB_ITER_2 * jnp.ones((NUM_ENV,))\n",
        "t0 = time()\n",
        "for i in range(NB_ITER_2):\n",
        "    env_states = vmap_env_step(env_states, jnp.sin(pulse*i))\n",
        "    env_states = vmap_env_reset_done(env_states)\n",
        "print(\"{0} iterations in {1}s\".format(NB_ITER_2, time()-t0))\n",
        "print(\"step and reset_done\")\n",
        "print()"
      ],
      "metadata": {
        "colab": {
          "base_uri": "https://localhost:8080/"
        },
        "id": "7WCB56hxqiMk",
        "outputId": "9ea868e0-e39b-48ac-a155-394c2b908366"
      },
      "execution_count": 6,
      "outputs": [
        {
          "output_type": "stream",
          "name": "stdout",
          "text": [
            "\n",
            "Observation type : position\n",
            "Seed : 0\n",
            "Number of envs : 10000\n",
            "\n",
            "Time of reset (jit+exec) : 17.60360336303711\n",
            "\n",
            "achieved_goal : (10000, 8)\n",
            "desired_goal : (10000, 8)\n",
            "observation : (10000, 8)\n",
            "\n",
            "1 iterations in 20.688915729522705s\n",
            "step and reset_done : first call reflecting compilation time\n",
            "\n",
            "10000 iterations in 31.756733179092407s\n",
            "step and reset_done\n",
            "\n"
          ]
        }
      ]
    }
  ]
}