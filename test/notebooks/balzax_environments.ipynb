{
  "nbformat": 4,
  "nbformat_minor": 0,
  "metadata": {
    "colab": {
      "name": "balzax_environments.ipynb",
      "provenance": [],
      "collapsed_sections": []
    },
    "kernelspec": {
      "name": "python3",
      "display_name": "Python 3"
    },
    "language_info": {
      "name": "python"
    },
    "accelerator": "GPU"
  },
  "cells": [
    {
      "cell_type": "markdown",
      "source": [
        "# Balzax environments\n",
        "\n",
        "***To be run on Collab***\n",
        "\n",
        "## Imports and modules"
      ],
      "metadata": {
        "id": "9tS7a7IPi-bx"
      }
    },
    {
      "cell_type": "markdown",
      "source": [
        "### Install Flax"
      ],
      "metadata": {
        "id": "dc_dePmAxXQY"
      }
    },
    {
      "cell_type": "code",
      "execution_count": 1,
      "metadata": {
        "colab": {
          "base_uri": "https://localhost:8080/"
        },
        "id": "IAHsgrCSi1OD",
        "outputId": "8e0c397e-7c07-4fe3-813d-8458b6e766fe"
      },
      "outputs": [
        {
          "output_type": "stream",
          "name": "stdout",
          "text": [
            "Collecting flax\n",
            "  Downloading flax-0.4.2-py3-none-any.whl (186 kB)\n",
            "\u001b[?25l\r\u001b[K     |█▊                              | 10 kB 10.1 MB/s eta 0:00:01\r\u001b[K     |███▌                            | 20 kB 11.1 MB/s eta 0:00:01\r\u001b[K     |█████▎                          | 30 kB 8.1 MB/s eta 0:00:01\r\u001b[K     |███████                         | 40 kB 7.3 MB/s eta 0:00:01\r\u001b[K     |████████▉                       | 51 kB 4.4 MB/s eta 0:00:01\r\u001b[K     |██████████▌                     | 61 kB 5.2 MB/s eta 0:00:01\r\u001b[K     |████████████▎                   | 71 kB 5.6 MB/s eta 0:00:01\r\u001b[K     |██████████████                  | 81 kB 5.2 MB/s eta 0:00:01\r\u001b[K     |███████████████▉                | 92 kB 5.8 MB/s eta 0:00:01\r\u001b[K     |█████████████████▋              | 102 kB 5.5 MB/s eta 0:00:01\r\u001b[K     |███████████████████▍            | 112 kB 5.5 MB/s eta 0:00:01\r\u001b[K     |█████████████████████           | 122 kB 5.5 MB/s eta 0:00:01\r\u001b[K     |██████████████████████▉         | 133 kB 5.5 MB/s eta 0:00:01\r\u001b[K     |████████████████████████▋       | 143 kB 5.5 MB/s eta 0:00:01\r\u001b[K     |██████████████████████████▍     | 153 kB 5.5 MB/s eta 0:00:01\r\u001b[K     |████████████████████████████▏   | 163 kB 5.5 MB/s eta 0:00:01\r\u001b[K     |█████████████████████████████▉  | 174 kB 5.5 MB/s eta 0:00:01\r\u001b[K     |███████████████████████████████▋| 184 kB 5.5 MB/s eta 0:00:01\r\u001b[K     |████████████████████████████████| 186 kB 5.5 MB/s \n",
            "\u001b[?25hRequirement already satisfied: matplotlib in /usr/local/lib/python3.7/dist-packages (from flax) (3.2.2)\n",
            "Requirement already satisfied: typing-extensions>=4.1.1 in /usr/local/lib/python3.7/dist-packages (from flax) (4.2.0)\n",
            "Collecting optax\n",
            "  Downloading optax-0.1.2-py3-none-any.whl (140 kB)\n",
            "\u001b[K     |████████████████████████████████| 140 kB 6.0 MB/s \n",
            "\u001b[?25hRequirement already satisfied: numpy>=1.12 in /usr/local/lib/python3.7/dist-packages (from flax) (1.21.6)\n",
            "Requirement already satisfied: jax>=0.3 in /usr/local/lib/python3.7/dist-packages (from flax) (0.3.8)\n",
            "Requirement already satisfied: msgpack in /usr/local/lib/python3.7/dist-packages (from flax) (1.0.3)\n",
            "Requirement already satisfied: scipy>=1.2.1 in /usr/local/lib/python3.7/dist-packages (from jax>=0.3->flax) (1.4.1)\n",
            "Requirement already satisfied: opt-einsum in /usr/local/lib/python3.7/dist-packages (from jax>=0.3->flax) (3.3.0)\n",
            "Requirement already satisfied: absl-py in /usr/local/lib/python3.7/dist-packages (from jax>=0.3->flax) (1.0.0)\n",
            "Requirement already satisfied: six in /usr/local/lib/python3.7/dist-packages (from absl-py->jax>=0.3->flax) (1.15.0)\n",
            "Requirement already satisfied: pyparsing!=2.0.4,!=2.1.2,!=2.1.6,>=2.0.1 in /usr/local/lib/python3.7/dist-packages (from matplotlib->flax) (3.0.8)\n",
            "Requirement already satisfied: python-dateutil>=2.1 in /usr/local/lib/python3.7/dist-packages (from matplotlib->flax) (2.8.2)\n",
            "Requirement already satisfied: kiwisolver>=1.0.1 in /usr/local/lib/python3.7/dist-packages (from matplotlib->flax) (1.4.2)\n",
            "Requirement already satisfied: cycler>=0.10 in /usr/local/lib/python3.7/dist-packages (from matplotlib->flax) (0.11.0)\n",
            "Collecting chex>=0.0.4\n",
            "  Downloading chex-0.1.3-py3-none-any.whl (72 kB)\n",
            "\u001b[K     |████████████████████████████████| 72 kB 375 kB/s \n",
            "\u001b[?25hRequirement already satisfied: jaxlib>=0.1.37 in /usr/local/lib/python3.7/dist-packages (from optax->flax) (0.3.7+cuda11.cudnn805)\n",
            "Requirement already satisfied: dm-tree>=0.1.5 in /usr/local/lib/python3.7/dist-packages (from chex>=0.0.4->optax->flax) (0.1.7)\n",
            "Requirement already satisfied: toolz>=0.9.0 in /usr/local/lib/python3.7/dist-packages (from chex>=0.0.4->optax->flax) (0.11.2)\n",
            "Requirement already satisfied: flatbuffers<3.0,>=1.12 in /usr/local/lib/python3.7/dist-packages (from jaxlib>=0.1.37->optax->flax) (2.0)\n",
            "Installing collected packages: chex, optax, flax\n",
            "Successfully installed chex-0.1.3 flax-0.4.2 optax-0.1.2\n"
          ]
        }
      ],
      "source": [
        "!pip install flax"
      ]
    },
    {
      "cell_type": "markdown",
      "source": [
        "### Install Balzax"
      ],
      "metadata": {
        "id": "UAz7eQdlxZpq"
      }
    },
    {
      "cell_type": "code",
      "source": [
        "!pip install git+https://github.com/charlypg/Balzax@main"
      ],
      "metadata": {
        "colab": {
          "base_uri": "https://localhost:8080/"
        },
        "id": "nBH_bc_9-Z6k",
        "outputId": "311d079b-3fdb-4f9e-ad5d-881d2deac4d3"
      },
      "execution_count": 2,
      "outputs": [
        {
          "output_type": "stream",
          "name": "stdout",
          "text": [
            "Collecting git+https://github.com/charlypg/Balzax@main\n",
            "  Cloning https://github.com/charlypg/Balzax (to revision main) to /tmp/pip-req-build-5bcsrffo\n",
            "  Running command git clone -q https://github.com/charlypg/Balzax /tmp/pip-req-build-5bcsrffo\n",
            "Building wheels for collected packages: balzax\n",
            "  Building wheel for balzax (setup.py) ... \u001b[?25l\u001b[?25hdone\n",
            "  Created wheel for balzax: filename=balzax-0.0.3-py3-none-any.whl size=15125 sha256=b15efe9596f7e0df821a161af6db6989c797ddb5da9434336203113f17bb7743\n",
            "  Stored in directory: /tmp/pip-ephem-wheel-cache-v9nss7ym/wheels/44/41/68/a79f1aa3f5d7c053785d9ce2f2259c0b917a04e4149ad24e72\n",
            "Successfully built balzax\n",
            "Installing collected packages: balzax\n",
            "Successfully installed balzax-0.0.3\n"
          ]
        }
      ]
    },
    {
      "cell_type": "markdown",
      "source": [
        "### Imports"
      ],
      "metadata": {
        "id": "RyzK7_wexdLp"
      }
    },
    {
      "cell_type": "code",
      "source": [
        "import jax\n",
        "import jax.numpy as jnp\n",
        "import flax\n",
        "from functools import partial\n",
        "from time import time \n",
        "import matplotlib.pyplot as plt\n",
        "from tqdm import tqdm\n",
        "\n",
        "from balzax import BallsEnv, BallsEnvGoal"
      ],
      "metadata": {
        "id": "ezpIbwE8lMdS"
      },
      "execution_count": 3,
      "outputs": []
    },
    {
      "cell_type": "markdown",
      "source": [
        "### Devices"
      ],
      "metadata": {
        "id": "fwLLHOQpXV2p"
      }
    },
    {
      "cell_type": "code",
      "source": [
        "print(jax.devices())"
      ],
      "metadata": {
        "colab": {
          "base_uri": "https://localhost:8080/"
        },
        "id": "REZXQuFgXYo9",
        "outputId": "cf060f16-f80c-4f4d-f9d8-1f5bfc13c7d9"
      },
      "execution_count": 4,
      "outputs": [
        {
          "output_type": "stream",
          "name": "stdout",
          "text": [
            "[GpuDevice(id=0, process_index=0)]\n"
          ]
        }
      ]
    },
    {
      "cell_type": "markdown",
      "source": [
        "## Reset vs Reset Done"
      ],
      "metadata": {
        "id": "wipQ9F5br1tT"
      }
    },
    {
      "cell_type": "code",
      "source": [
        "def gen_keys(seed, num):\n",
        "  return jax.random.split(jax.random.PRNGKey(seed), num=num)\n",
        "\n",
        "NUM_ENV = 100\n",
        "NB_ITER = 1_000\n",
        "env = BallsEnvGoal(obs_type='position', max_timestep=50)\n",
        "vmap_env_reset_done = jax.jit(jax.vmap(env.reset_done), backend='gpu') \n",
        "vmap_env_reset = jax.jit(jax.vmap(env.reset), backend='gpu')  \n",
        "\n",
        "reset_times = []\n",
        "reset_done_times = []\n",
        "\n",
        "for seed in tqdm(range(NB_ITER)):\n",
        "  keys = gen_keys(seed, NUM_ENV)\n",
        "  t0 = time()\n",
        "  env_state = vmap_env_reset(keys)\n",
        "  reset_times.append(time()-t0)\n",
        "\n",
        "for _ in tqdm(range(NB_ITER)):\n",
        "  t0 = time()\n",
        "  env_state = vmap_env_reset_done(env_state)\n",
        "  reset_done_times.append(time()-t0)\n",
        "\n",
        "sum_reset = sum(reset_times)\n",
        "print(\"Mean reset: {}s\".format(sum_reset/len(reset_times)))\n",
        "print(\"Sum resets: {}s\".format(sum_reset))\n",
        "print()\n",
        "\n",
        "sum_reset_dones = sum(reset_done_times)\n",
        "print(\"Mean reset_done: {}s\".format(sum_reset_dones/len(reset_done_times)))\n",
        "print(\"Sum reset_dones: {}s\".format(sum_reset_dones))\n",
        "print()"
      ],
      "metadata": {
        "colab": {
          "base_uri": "https://localhost:8080/"
        },
        "id": "J1hDi0Uxr6_2",
        "outputId": "d76d650d-bf9f-41cb-ebf6-43f1b2ab1d85"
      },
      "execution_count": 5,
      "outputs": [
        {
          "output_type": "stream",
          "name": "stderr",
          "text": [
            "100%|██████████| 1000/1000 [00:07<00:00, 139.34it/s]\n",
            "100%|██████████| 1000/1000 [00:03<00:00, 325.73it/s]"
          ]
        },
        {
          "output_type": "stream",
          "name": "stdout",
          "text": [
            "Mean reset: 0.00163826847076416s\n",
            "Sum resets: 1.6382684707641602s\n",
            "\n",
            "Mean reset_done: 0.0030111296176910402s\n",
            "Sum reset_dones: 3.01112961769104s\n",
            "\n"
          ]
        },
        {
          "output_type": "stream",
          "name": "stderr",
          "text": [
            "\n"
          ]
        }
      ]
    },
    {
      "cell_type": "markdown",
      "source": [
        "## Testing vectorized BallsEnv"
      ],
      "metadata": {
        "id": "lGqV42h2lTH4"
      }
    },
    {
      "cell_type": "code",
      "source": [
        "OBS_TYPE = 'image' # @param ['position', 'image']\n",
        "MAX_TIMESTEPS = 3\n",
        "SEED = 0\n",
        "NUM_ENV = 500\n",
        "\n",
        "NB_ITER_1 = 1\n",
        "NB_ITER_2 = 500\n",
        "\n",
        "ACTION_0 = jnp.zeros((NUM_ENV, 1))\n",
        "ACTION_1 = jnp.ones((NUM_ENV, 1))/2.\n",
        "\n",
        "key = jax.random.PRNGKey(SEED)\n",
        "keys = jax.random.split(key, num=NUM_ENV)\n",
        "\n",
        "env = BallsEnv(obs_type=OBS_TYPE, max_timestep=MAX_TIMESTEPS)\n",
        "\n",
        "vmap_env_reset_done = jax.jit(jax.vmap(env.reset_done), backend='gpu') \n",
        "vmap_env_reset = jax.jit(jax.vmap(env.reset), backend='gpu')  \n",
        "vmap_env_step = jax.jit(jax.vmap(env.step), backend='gpu')  \n",
        "\n",
        "print()\n",
        "print(\"Observation type : {}\".format(OBS_TYPE))\n",
        "print(\"Seed : {}\".format(SEED))\n",
        "print(\"Number of envs : {}\".format(NUM_ENV))\n",
        "print()\n",
        "\n",
        "t0 = time()\n",
        "env_states = vmap_env_reset(keys)\n",
        "print(\"Time of reset (jit+exec) : {}\".format(time()-t0))\n",
        "print()\n",
        "\n",
        "print(\"observations : {}\".format(env_states.obs.shape))\n",
        "print()\n",
        "\n",
        "t0 = time()\n",
        "for _ in tqdm(range(NB_ITER_1)):\n",
        "    env_states = vmap_env_step(env_states, ACTION_1)\n",
        "    env_states = vmap_env_reset_done(env_states)\n",
        "print(\"{0} iterations in {1}s\".format(NB_ITER_1, time()-t0))\n",
        "print(\"step and reset_done : first call reflecting compilation time\")\n",
        "print()\n",
        "\n",
        "step_times = []\n",
        "reset_done_times = []\n",
        "pulse = 2*jnp.pi / NB_ITER_2 * jnp.ones((NUM_ENV, 1))\n",
        "t0 = time()\n",
        "for i in tqdm(range(NB_ITER_2)):\n",
        "    t1 = time()\n",
        "    env_states = vmap_env_step(env_states, jnp.sin(pulse*i))\n",
        "    step_times.append(time()-t1)\n",
        "    t1 = time()\n",
        "    env_states = vmap_env_reset_done(env_states)\n",
        "    reset_done_times.append(time()-t1)\n",
        "print(\"{0} iterations in {1}s\".format(NB_ITER_2, time()-t0))\n",
        "print(\"step and reset_done\")\n",
        "print('\\n\\n')\n",
        "\n",
        "sum_steps = sum(step_times)\n",
        "print(\"Mean step: {}s\".format(sum_steps/len(step_times)))\n",
        "print(\"Sum steps: {}s\".format(sum_steps))\n",
        "print()\n",
        "\n",
        "sum_reset_dones = sum(reset_done_times)\n",
        "print(\"Mean reset_done: {}s\".format(sum_reset_dones/len(reset_done_times)))\n",
        "print(\"Sum reset_dones: {}s\".format(sum_reset_dones))\n",
        "print()"
      ],
      "metadata": {
        "colab": {
          "base_uri": "https://localhost:8080/"
        },
        "id": "Jroe3Z1-Y_fQ",
        "outputId": "d4431e25-2b92-4f03-8776-8a305182740e"
      },
      "execution_count": 6,
      "outputs": [
        {
          "output_type": "stream",
          "name": "stdout",
          "text": [
            "\n",
            "Observation type : image\n",
            "Seed : 0\n",
            "Number of envs : 500\n",
            "\n",
            "Time of reset (jit+exec) : 1.2153356075286865\n",
            "\n",
            "observations : (500, 224, 224, 1)\n",
            "\n"
          ]
        },
        {
          "output_type": "stream",
          "name": "stderr",
          "text": [
            "100%|██████████| 1/1 [00:04<00:00,  4.86s/it]\n"
          ]
        },
        {
          "output_type": "stream",
          "name": "stdout",
          "text": [
            "1 iterations in 4.881577491760254s\n",
            "step and reset_done : first call reflecting compilation time\n",
            "\n"
          ]
        },
        {
          "output_type": "stream",
          "name": "stderr",
          "text": [
            "100%|██████████| 500/500 [00:06<00:00, 77.56it/s]"
          ]
        },
        {
          "output_type": "stream",
          "name": "stdout",
          "text": [
            "500 iterations in 6.45752477645874s\n",
            "step and reset_done\n",
            "\n",
            "\n",
            "\n",
            "Mean step: 0.006255265235900879s\n",
            "Sum steps: 3.1276326179504395s\n",
            "\n",
            "Mean reset_done: 0.00632636833190918s\n",
            "Sum reset_dones: 3.16318416595459s\n",
            "\n"
          ]
        },
        {
          "output_type": "stream",
          "name": "stderr",
          "text": [
            "\n"
          ]
        }
      ]
    },
    {
      "cell_type": "code",
      "source": [
        "plt.figure(1)\n",
        "plt.title(\"step times\")\n",
        "plt.xlabel('timestep #')\n",
        "plt.ylabel('time (s)')\n",
        "plt.plot(step_times)\n",
        "\n",
        "plt.figure(2)\n",
        "plt.title(\"step times\")\n",
        "plt.xlabel('timestep #')\n",
        "plt.ylabel('time (s)')\n",
        "plt.plot(step_times[1:])\n",
        "\n",
        "plt.figure(3)\n",
        "plt.title(\"reset_done times\")\n",
        "plt.xlabel('timestep #')\n",
        "plt.ylabel('time (s)')\n",
        "plt.plot(reset_done_times)"
      ],
      "metadata": {
        "colab": {
          "base_uri": "https://localhost:8080/",
          "height": 868
        },
        "id": "pi6hTZexpR_5",
        "outputId": "9cde1db8-77ab-4421-c10f-e177525f8e41"
      },
      "execution_count": 7,
      "outputs": [
        {
          "output_type": "execute_result",
          "data": {
            "text/plain": [
              "[<matplotlib.lines.Line2D at 0x7f266d1a2390>]"
            ]
          },
          "metadata": {},
          "execution_count": 7
        },
        {
          "output_type": "display_data",
          "data": {
            "text/plain": [
              "<Figure size 432x288 with 1 Axes>"
            ],
            "image/png": "[encoded data removed]"
          },
          "metadata": {
            "needs_background": "light"
          }
        },
        {
          "output_type": "display_data",
          "data": {
            "text/plain": [
              "<Figure size 432x288 with 1 Axes>"
            ],
            "image/png": "[encoded data removed]"
          },
          "metadata": {
            "needs_background": "light"
          }
        },
        {
          "output_type": "display_data",
          "data": {
            "text/plain": [
              "<Figure size 432x288 with 1 Axes>"
            ],
            "image/png": "[encoded data removed]"
          },
          "metadata": {
            "needs_background": "light"
          }
        }
      ]
    },
    {
      "cell_type": "markdown",
      "source": [
        "### Testing vectorized BallsEnvGoal"
      ],
      "metadata": {
        "id": "UtT5ekPzqdDl"
      }
    },
    {
      "cell_type": "code",
      "source": [
        "OBS_TYPE = 'position' # @param ['position', 'image']\n",
        "MAX_TIMESTEPS = 100\n",
        "SEED = 0\n",
        "NUM_ENV = 10_000\n",
        "\n",
        "NB_ITER_1 = 1\n",
        "NB_ITER_2 = 10_000\n",
        "\n",
        "ACTION_0 = jnp.zeros((NUM_ENV, 1))\n",
        "ACTION_1 = jnp.ones((NUM_ENV, 1))/2.\n",
        "\n",
        "key = jax.random.PRNGKey(SEED)\n",
        "keys = jax.random.split(key, num=NUM_ENV)\n",
        "\n",
        "env = BallsEnvGoal(obs_type=OBS_TYPE, max_timestep=MAX_TIMESTEPS)\n",
        "\n",
        "vmap_env_reset_done = jax.jit(jax.vmap(env.reset_done), backend='gpu') \n",
        "vmap_env_reset = jax.jit(jax.vmap(env.reset), backend='gpu')  \n",
        "vmap_env_step = jax.jit(jax.vmap(env.step), backend='gpu')  \n",
        "\n",
        "print()\n",
        "print(\"Observation type : {}\".format(OBS_TYPE))\n",
        "print(\"Seed : {}\".format(SEED))\n",
        "print(\"Number of envs : {}\".format(NUM_ENV))\n",
        "print()\n",
        "\n",
        "t0 = time()\n",
        "env_states = vmap_env_reset(keys)\n",
        "print(\"Time of reset (jit+exec) : {}\".format(time()-t0))\n",
        "print()\n",
        "\n",
        "for field, value in zip(env_states.goalobs.keys(), env_states.goalobs.values()):\n",
        "  print(\"{0} : {1}\".format(field, value.shape))\n",
        "print()\n",
        "\n",
        "t0 = time()\n",
        "for _ in tqdm(range(NB_ITER_1)):\n",
        "    env_states = vmap_env_step(env_states, ACTION_1)\n",
        "    env_states = vmap_env_reset_done(env_states)\n",
        "print(\"{0} iterations in {1}s\".format(NB_ITER_1, time()-t0))\n",
        "print(\"step and reset_done : first call reflecting compilation time\")\n",
        "print()\n",
        "\n",
        "step_times = []\n",
        "reset_done_times = []\n",
        "pulse = 2*jnp.pi / NB_ITER_2 * jnp.ones((NUM_ENV, 1))\n",
        "t0 = time()\n",
        "for i in tqdm(range(NB_ITER_2)):\n",
        "    t1 = time()\n",
        "    env_states = vmap_env_step(env_states, jnp.sin(pulse*i))\n",
        "    step_times.append(time()-t1)\n",
        "    t1 = time()\n",
        "    env_states = vmap_env_reset_done(env_states)\n",
        "    reset_done_times.append(time()-t1)\n",
        "print(\"{0} iterations in {1}s\".format(NB_ITER_2, time()-t0))\n",
        "print(\"step and reset_done\")\n",
        "print('\\n\\n')\n",
        "\n",
        "sum_steps = sum(step_times)\n",
        "print(\"Mean step: {}s\".format(sum_steps/len(step_times)))\n",
        "print(\"Sum steps: {}s\".format(sum_steps))\n",
        "print()\n",
        "\n",
        "sum_reset_dones = sum(reset_done_times)\n",
        "print(\"Mean reset_done: {}s\".format(sum_reset_dones/len(reset_done_times)))\n",
        "print(\"Sum reset_dones: {}s\".format(sum_reset_dones))\n",
        "print()"
      ],
      "metadata": {
        "colab": {
          "base_uri": "https://localhost:8080/"
        },
        "id": "7WCB56hxqiMk",
        "outputId": "2d9f89d7-bdf8-4b8e-9479-04e41d506eef"
      },
      "execution_count": 8,
      "outputs": [
        {
          "output_type": "stream",
          "name": "stdout",
          "text": [
            "\n",
            "Observation type : position\n",
            "Seed : 0\n",
            "Number of envs : 10000\n",
            "\n",
            "Time of reset (jit+exec) : 0.8918647766113281\n",
            "\n",
            "achieved_goal : (10000, 8)\n",
            "desired_goal : (10000, 8)\n",
            "observation : (10000, 8)\n",
            "\n"
          ]
        },
        {
          "output_type": "stream",
          "name": "stderr",
          "text": [
            "100%|██████████| 1/1 [00:09<00:00,  9.69s/it]\n"
          ]
        },
        {
          "output_type": "stream",
          "name": "stdout",
          "text": [
            "1 iterations in 9.701481819152832s\n",
            "step and reset_done : first call reflecting compilation time\n",
            "\n"
          ]
        },
        {
          "output_type": "stream",
          "name": "stderr",
          "text": [
            "100%|██████████| 10000/10000 [00:37<00:00, 268.55it/s]"
          ]
        },
        {
          "output_type": "stream",
          "name": "stdout",
          "text": [
            "10000 iterations in 37.24441051483154s\n",
            "step and reset_done\n",
            "\n",
            "\n",
            "\n",
            "Mean step: 0.0006712950706481934s\n",
            "Sum steps: 6.712950706481934s\n",
            "\n",
            "Mean reset_done: 0.0029443795919418337s\n",
            "Sum reset_dones: 29.443795919418335s\n",
            "\n"
          ]
        },
        {
          "output_type": "stream",
          "name": "stderr",
          "text": [
            "\n"
          ]
        }
      ]
    },
    {
      "cell_type": "code",
      "source": [
        "plt.figure(1)\n",
        "plt.title(\"step times\")\n",
        "plt.xlabel('timestep #')\n",
        "plt.ylabel('time (s)')\n",
        "plt.plot(step_times)\n",
        "\n",
        "plt.figure(2)\n",
        "plt.title(\"step times\")\n",
        "plt.xlabel('timestep #')\n",
        "plt.ylabel('time (s)')\n",
        "plt.plot(step_times[1:])\n",
        "\n",
        "plt.figure(3)\n",
        "plt.title(\"reset_done times\")\n",
        "plt.xlabel('timestep #')\n",
        "plt.ylabel('time (s)')\n",
        "plt.plot(reset_done_times)"
      ],
      "metadata": {
        "id": "oieFd2B6pZX9",
        "colab": {
          "base_uri": "https://localhost:8080/",
          "height": 868
        },
        "outputId": "714a8b1c-8ea3-443d-de92-b6df4b98cdad"
      },
      "execution_count": 9,
      "outputs": [
        {
          "output_type": "execute_result",
          "data": {
            "text/plain": [
              "[<matplotlib.lines.Line2D at 0x7f26800a8190>]"
            ]
          },
          "metadata": {},
          "execution_count": 9
        },
        {
          "output_type": "display_data",
          "data": {
            "text/plain": [
              "<Figure size 432x288 with 1 Axes>"
            ],
            "image/png": "[encoded data removed]"
          },
          "metadata": {
            "needs_background": "light"
          }
        },
        {
          "output_type": "display_data",
          "data": {
            "text/plain": [
              "<Figure size 432x288 with 1 Axes>"
            ],
            "image/png": "[encoded data removed]"
          },
          "metadata": {
            "needs_background": "light"
          }
        },
        {
          "output_type": "display_data",
          "data": {
            "text/plain": [
              "<Figure size 432x288 with 1 Axes>"
            ],
            "image/png": "[encoded data removed]"
          },
          "metadata": {
            "needs_background": "light"
          }
        }
      ]
    }
  ]
}